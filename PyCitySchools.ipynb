{
 "cells": [
  {
   "cell_type": "code",
   "execution_count": 1,
   "id": "9108c6f1",
   "metadata": {},
   "outputs": [],
   "source": [
    "import pandas as pd\n",
    "import os\n",
    "# Files to load using OS.PATH.JOIN()\n",
    "#school_data_to_load2 = os.path.join(\"Resrouces\", \"schools_complete.csv\")\n",
    "#student_data_to_load2 = os.path.join(\"Resources\", \"students_complete.csv\")"
   ]
  },
  {
   "cell_type": "code",
   "execution_count": 2,
   "id": "126f4073",
   "metadata": {},
   "outputs": [],
   "source": [
    "# Files to load\n",
    "school_data_to_load =\"Resources/schools_complete.csv\"\n",
    "student_data_to_load = \"Resources/students_complete.csv\""
   ]
  },
  {
   "cell_type": "code",
   "execution_count": 3,
   "id": "47592ebe",
   "metadata": {},
   "outputs": [],
   "source": [
    "# Read school data and store in pd.DataFrame\n",
    "school_data_df = pd.read_csv(school_data_to_load)\n",
    "student_data_df = pd.read_csv(student_data_to_load)"
   ]
  },
  {
   "cell_type": "code",
   "execution_count": 4,
   "id": "6d1ea028",
   "metadata": {},
   "outputs": [
    {
     "name": "stdout",
     "output_type": "stream",
     "text": [
      "   School ID            school_name      type  size   budget\n",
      "0          0      Huang High School  District  2917  1910635\n",
      "1          1   Figueroa High School  District  2949  1884411\n",
      "2          2    Shelton High School   Charter  1761  1056600\n",
      "3          3  Hernandez High School  District  4635  3022020\n",
      "4          4    Griffin High School   Charter  1468   917500\n"
     ]
    }
   ],
   "source": [
    "# Get the first rows of the df with .head() and the last rows with .tail()\n",
    "print(school_data_df.head())\n",
    "#print(student_data_df.head())\n",
    "#print(school_data_df.tail())\n",
    "#print(student_data_df.tail())"
   ]
  },
  {
   "cell_type": "code",
   "execution_count": 5,
   "id": "8cec0e1d",
   "metadata": {},
   "outputs": [
    {
     "data": {
      "text/plain": [
       "School ID      15\n",
       "school_name    15\n",
       "type           15\n",
       "size           15\n",
       "budget         15\n",
       "dtype: int64"
      ]
     },
     "execution_count": 5,
     "metadata": {},
     "output_type": "execute_result"
    }
   ],
   "source": [
    "#Determine if there are missing values with .count()\n",
    "school_data_df.count()"
   ]
  },
  {
   "cell_type": "code",
   "execution_count": 6,
   "id": "b475956f",
   "metadata": {},
   "outputs": [
    {
     "data": {
      "text/plain": [
       "Student ID       39170\n",
       "student_name     39170\n",
       "gender           39170\n",
       "grade            39170\n",
       "school_name      39170\n",
       "reading_score    39170\n",
       "math_score       39170\n",
       "dtype: int64"
      ]
     },
     "execution_count": 6,
     "metadata": {},
     "output_type": "execute_result"
    }
   ],
   "source": [
    "student_data_df.count()"
   ]
  },
  {
   "cell_type": "code",
   "execution_count": 7,
   "id": "9d705684",
   "metadata": {},
   "outputs": [
    {
     "data": {
      "text/plain": [
       "Student ID       0\n",
       "student_name     0\n",
       "gender           0\n",
       "grade            0\n",
       "school_name      0\n",
       "reading_score    0\n",
       "math_score       0\n",
       "dtype: int64"
      ]
     },
     "execution_count": 7,
     "metadata": {},
     "output_type": "execute_result"
    }
   ],
   "source": [
    "student_data_df.isnull().sum()"
   ]
  },
  {
   "cell_type": "code",
   "execution_count": 8,
   "id": "af3b8b67",
   "metadata": {},
   "outputs": [
    {
     "data": {
      "text/plain": [
       "School ID      15\n",
       "school_name    15\n",
       "type           15\n",
       "size           15\n",
       "budget         15\n",
       "dtype: int64"
      ]
     },
     "execution_count": 8,
     "metadata": {},
     "output_type": "execute_result"
    }
   ],
   "source": [
    "school_data_df.notnull().sum()"
   ]
  },
  {
   "cell_type": "code",
   "execution_count": 9,
   "id": "9aff1e3d",
   "metadata": {},
   "outputs": [
    {
     "data": {
      "text/plain": [
       "Student ID       39170\n",
       "student_name     39170\n",
       "gender           39170\n",
       "grade            39170\n",
       "school_name      39170\n",
       "reading_score    39170\n",
       "math_score       39170\n",
       "dtype: int64"
      ]
     },
     "execution_count": 9,
     "metadata": {},
     "output_type": "execute_result"
    }
   ],
   "source": [
    "student_data_df.notnull().sum()"
   ]
  },
  {
   "cell_type": "code",
   "execution_count": 10,
   "id": "9372a133",
   "metadata": {},
   "outputs": [
    {
     "data": {
      "text/plain": [
       "School ID       int64\n",
       "school_name    object\n",
       "type           object\n",
       "size            int64\n",
       "budget          int64\n",
       "dtype: object"
      ]
     },
     "execution_count": 10,
     "metadata": {},
     "output_type": "execute_result"
    }
   ],
   "source": [
    "# Data Types with -dtypes of the school df\n",
    "school_data_df.dtypes"
   ]
  },
  {
   "cell_type": "code",
   "execution_count": 11,
   "id": "0f0c12a2",
   "metadata": {},
   "outputs": [
    {
     "data": {
      "text/plain": [
       "dtype('int64')"
      ]
     },
     "execution_count": 11,
     "metadata": {},
     "output_type": "execute_result"
    }
   ],
   "source": [
    "school_data_df.budget.dtypes"
   ]
  },
  {
   "cell_type": "code",
   "execution_count": 12,
   "id": "2aa2bb83",
   "metadata": {},
   "outputs": [
    {
     "data": {
      "text/plain": [
       "Student ID        int64\n",
       "student_name     object\n",
       "gender           object\n",
       "grade            object\n",
       "school_name      object\n",
       "reading_score     int64\n",
       "math_score        int64\n",
       "dtype: object"
      ]
     },
     "execution_count": 12,
     "metadata": {},
     "output_type": "execute_result"
    }
   ],
   "source": [
    "student_data_df.dtypes"
   ]
  },
  {
   "cell_type": "code",
   "execution_count": 13,
   "id": "6f24afaa",
   "metadata": {},
   "outputs": [
    {
     "name": "stdout",
     "output_type": "stream",
     "text": [
      "0       Paul Bradley\n",
      "1       Victor Smith\n",
      "2    Kevin Rodriguez\n",
      "3      Richard Scott\n",
      "4         Bonnie Ray\n",
      "5      Bryan Miranda\n",
      "6      Sheena Carter\n",
      "7       Nicole Baker\n",
      "8       Michael Roth\n",
      "9     Matthew Greene\n",
      "Name: student_name, dtype: object\n"
     ]
    }
   ],
   "source": [
    "# Cleaning the prefixes and suffixes in student_names\n",
    "# Add prefixes and suffixes to remove from student_names in a list\n",
    "prefixes_suffixes = ['Dr. ', 'Mr. ', 'Ms. ', 'Mrs. ', 'Miss ', ' MD', ' DDS', ' DVM', ' PhD']\n",
    "# Iterate through prefixes_suffixes list and replace them with an empty space when it appears in the student's name. \n",
    "# Since student_names is an object it must convert it to str in order to use thee replace method available ONLY for strings\n",
    "\n",
    "for word in prefixes_suffixes:\n",
    "    student_data_df['student_name'] = student_data_df['student_name'].str.replace(word, '', regex = True)\n",
    "    \n",
    "print(student_data_df['student_name'].head(10))"
   ]
  },
  {
   "cell_type": "code",
   "execution_count": 14,
   "id": "a0b6bfac",
   "metadata": {},
   "outputs": [
    {
     "data": {
      "text/plain": [
       "True"
      ]
     },
     "execution_count": 14,
     "metadata": {},
     "output_type": "execute_result"
    }
   ],
   "source": [
    "#Check if the module student df is the same as the one cleaned by me\n",
    "clean_data_to_load =  \"Resources/clean_students_complete.csv\"\n",
    "\n",
    "student_data_clean_df = pd.read_csv(clean_data_to_load)\n",
    "\n",
    "student_data_df['student_name'].equals(student_data_clean_df['student_name'])"
   ]
  },
  {
   "cell_type": "code",
   "execution_count": 16,
   "id": "181fcc11",
   "metadata": {},
   "outputs": [
    {
     "data": {
      "text/html": [
       "<div>\n",
       "<style scoped>\n",
       "    .dataframe tbody tr th:only-of-type {\n",
       "        vertical-align: middle;\n",
       "    }\n",
       "\n",
       "    .dataframe tbody tr th {\n",
       "        vertical-align: top;\n",
       "    }\n",
       "\n",
       "    .dataframe thead th {\n",
       "        text-align: right;\n",
       "    }\n",
       "</style>\n",
       "<table border=\"1\" class=\"dataframe\">\n",
       "  <thead>\n",
       "    <tr style=\"text-align: right;\">\n",
       "      <th></th>\n",
       "      <th>Student ID</th>\n",
       "      <th>student_name</th>\n",
       "      <th>gender</th>\n",
       "      <th>grade</th>\n",
       "      <th>school_name</th>\n",
       "      <th>reading_score</th>\n",
       "      <th>math_score</th>\n",
       "      <th>School ID</th>\n",
       "      <th>type</th>\n",
       "      <th>size</th>\n",
       "      <th>budget</th>\n",
       "    </tr>\n",
       "  </thead>\n",
       "  <tbody>\n",
       "    <tr>\n",
       "      <th>0</th>\n",
       "      <td>0</td>\n",
       "      <td>Paul Bradley</td>\n",
       "      <td>M</td>\n",
       "      <td>9th</td>\n",
       "      <td>Huang High School</td>\n",
       "      <td>66</td>\n",
       "      <td>79</td>\n",
       "      <td>0</td>\n",
       "      <td>District</td>\n",
       "      <td>2917</td>\n",
       "      <td>1910635</td>\n",
       "    </tr>\n",
       "    <tr>\n",
       "      <th>1</th>\n",
       "      <td>1</td>\n",
       "      <td>Victor Smith</td>\n",
       "      <td>M</td>\n",
       "      <td>12th</td>\n",
       "      <td>Huang High School</td>\n",
       "      <td>94</td>\n",
       "      <td>61</td>\n",
       "      <td>0</td>\n",
       "      <td>District</td>\n",
       "      <td>2917</td>\n",
       "      <td>1910635</td>\n",
       "    </tr>\n",
       "    <tr>\n",
       "      <th>2</th>\n",
       "      <td>2</td>\n",
       "      <td>Kevin Rodriguez</td>\n",
       "      <td>M</td>\n",
       "      <td>12th</td>\n",
       "      <td>Huang High School</td>\n",
       "      <td>90</td>\n",
       "      <td>60</td>\n",
       "      <td>0</td>\n",
       "      <td>District</td>\n",
       "      <td>2917</td>\n",
       "      <td>1910635</td>\n",
       "    </tr>\n",
       "    <tr>\n",
       "      <th>3</th>\n",
       "      <td>3</td>\n",
       "      <td>Richard Scott</td>\n",
       "      <td>M</td>\n",
       "      <td>12th</td>\n",
       "      <td>Huang High School</td>\n",
       "      <td>67</td>\n",
       "      <td>58</td>\n",
       "      <td>0</td>\n",
       "      <td>District</td>\n",
       "      <td>2917</td>\n",
       "      <td>1910635</td>\n",
       "    </tr>\n",
       "    <tr>\n",
       "      <th>4</th>\n",
       "      <td>4</td>\n",
       "      <td>Bonnie Ray</td>\n",
       "      <td>F</td>\n",
       "      <td>9th</td>\n",
       "      <td>Huang High School</td>\n",
       "      <td>97</td>\n",
       "      <td>84</td>\n",
       "      <td>0</td>\n",
       "      <td>District</td>\n",
       "      <td>2917</td>\n",
       "      <td>1910635</td>\n",
       "    </tr>\n",
       "  </tbody>\n",
       "</table>\n",
       "</div>"
      ],
      "text/plain": [
       "   Student ID     student_name gender grade        school_name  reading_score  \\\n",
       "0           0     Paul Bradley      M   9th  Huang High School             66   \n",
       "1           1     Victor Smith      M  12th  Huang High School             94   \n",
       "2           2  Kevin Rodriguez      M  12th  Huang High School             90   \n",
       "3           3    Richard Scott      M  12th  Huang High School             67   \n",
       "4           4       Bonnie Ray      F   9th  Huang High School             97   \n",
       "\n",
       "   math_score  School ID      type  size   budget  \n",
       "0          79          0  District  2917  1910635  \n",
       "1          61          0  District  2917  1910635  \n",
       "2          60          0  District  2917  1910635  \n",
       "3          58          0  District  2917  1910635  \n",
       "4          84          0  District  2917  1910635  "
      ]
     },
     "execution_count": 16,
     "metadata": {},
     "output_type": "execute_result"
    }
   ],
   "source": [
    "# Inner merge of student and school df\n",
    "\n",
    "school_data_complete_df = pd.merge(student_data_df, school_data_df, on ='school_name')\n",
    "school_data_complete_df.head()"
   ]
  },
  {
   "cell_type": "code",
   "execution_count": 19,
   "id": "4c3a61be",
   "metadata": {},
   "outputs": [
    {
     "data": {
      "text/plain": [
       "39170"
      ]
     },
     "execution_count": 19,
     "metadata": {},
     "output_type": "execute_result"
    }
   ],
   "source": [
    "# Get the total number of sutdents\n",
    "student_count = school_data_complete_df['Student ID'].count()\n",
    "student_count"
   ]
  },
  {
   "cell_type": "code",
   "execution_count": 23,
   "id": "4e44e553",
   "metadata": {},
   "outputs": [
    {
     "data": {
      "text/plain": [
       "15"
      ]
     },
     "execution_count": 23,
     "metadata": {},
     "output_type": "execute_result"
    }
   ],
   "source": [
    "# Calculate the total number of schools\n",
    "school_count = len(school_data_complete_df['school_name'].unique())\n",
    "school_count"
   ]
  },
  {
   "cell_type": "code",
   "execution_count": 24,
   "id": "bc93ba80",
   "metadata": {},
   "outputs": [
    {
     "data": {
      "text/plain": [
       "24649428"
      ]
     },
     "execution_count": 24,
     "metadata": {},
     "output_type": "execute_result"
    }
   ],
   "source": [
    "#Calculate the total budget\n",
    "total_budget = school_data_df['budget'].sum()\n",
    "total_budget"
   ]
  },
  {
   "cell_type": "code",
   "execution_count": 28,
   "id": "5fe1ca60",
   "metadata": {},
   "outputs": [
    {
     "name": "stdout",
     "output_type": "stream",
     "text": [
      "Avg Reading Score: 81.87784018381414\n",
      "Avg Math Score: 78.98537145774827\n"
     ]
    }
   ],
   "source": [
    "# Calculate the average reading and math score\n",
    "avg_reading_score = school_data_complete_df['reading_score'].mean()\n",
    "print('Avg Reading Score: ' + str(avg_reading_score))\n",
    "avg_math_score = school_data_complete_df['math_score'].mean()\n",
    "print('Avg Math Score: ' + str(avg_math_score))"
   ]
  },
  {
   "cell_type": "code",
   "execution_count": 30,
   "id": "0ae007f0",
   "metadata": {},
   "outputs": [
    {
     "name": "stdout",
     "output_type": "stream",
     "text": [
      "   Student ID   student_name gender grade        school_name  reading_score  \\\n",
      "0           0   Paul Bradley      M   9th  Huang High School             66   \n",
      "4           4     Bonnie Ray      F   9th  Huang High School             97   \n",
      "5           5  Bryan Miranda      M   9th  Huang High School             94   \n",
      "6           6  Sheena Carter      F  11th  Huang High School             82   \n",
      "8           8   Michael Roth      M  10th  Huang High School             95   \n",
      "\n",
      "   math_score  School ID      type  size   budget  \n",
      "0          79          0  District  2917  1910635  \n",
      "4          84          0  District  2917  1910635  \n",
      "5          94          0  District  2917  1910635  \n",
      "6          80          0  District  2917  1910635  \n",
      "8          87          0  District  2917  1910635  \n"
     ]
    }
   ],
   "source": [
    "# Determine the passing grade for math and reading\n",
    "passing_math = school_data_complete_df[school_data_complete_df['math_score'] >= 70]\n",
    "passing_reading = school_data_complete_df[school_data_complete_df['reading_score'] >= 70]\n",
    "print(passing_math.head())"
   ]
  },
  {
   "cell_type": "code",
   "execution_count": 33,
   "id": "b2ccc956",
   "metadata": {},
   "outputs": [
    {
     "name": "stdout",
     "output_type": "stream",
     "text": [
      "29370 33610\n"
     ]
    }
   ],
   "source": [
    "# Calculate the number of students who passed math and reading\n",
    "passing_math_count = passing_math['student_name'].count()\n",
    "passing_reading_count = passing_reading['student_name'].count()\n",
    "print(passing_math_count, passing_reading_count)"
   ]
  },
  {
   "cell_type": "code",
   "execution_count": 34,
   "id": "2c0c5757",
   "metadata": {},
   "outputs": [
    {
     "name": "stdout",
     "output_type": "stream",
     "text": [
      "74.9808526933878 85.80546336482001\n"
     ]
    }
   ],
   "source": [
    "# Calculate the prcnt of passed math and reding\n",
    "passing_math_prcnt = passing_math_count / float(student_count) * 100\n",
    "passing_reading_prcnt = passing_reading_count / float(student_count) * 100\n",
    "print(passing_math_prcnt , passing_reading_prcnt)"
   ]
  },
  {
   "cell_type": "code",
   "execution_count": 39,
   "id": "c7e614c0",
   "metadata": {},
   "outputs": [
    {
     "name": "stdout",
     "output_type": "stream",
     "text": [
      "25528\n"
     ]
    }
   ],
   "source": [
    "# Calculate the number of sutdents who passed both math and reading\n",
    "passing_math_reading = school_data_complete_df[(school_data_complete_df['math_score']>= 70) & (school_data_complete_df['reading_score']>=70)]\n",
    "passing_math_reading.head()"
   ]
  },
  {
   "cell_type": "code",
   "execution_count": 44,
   "id": "fa785c33",
   "metadata": {},
   "outputs": [
    {
     "data": {
      "text/plain": [
       "65.17232575950983"
      ]
     },
     "execution_count": 44,
     "metadata": {},
     "output_type": "execute_result"
    }
   ],
   "source": [
    "# Calculate the number of students who passed both math and reading\n",
    "overall_passing_math_reading_count = passing_math_reading.student_name.count()\n",
    "#Caclulate the prcnt of students who passed both math and reading\n",
    "overall_passing_prcnt = overall_passing_math_reading_count / student_count * 100\n",
    "overall_passing_prcnt"
   ]
  },
  {
   "cell_type": "code",
   "execution_count": 45,
   "id": "70d3b658",
   "metadata": {},
   "outputs": [
    {
     "data": {
      "text/html": [
       "<div>\n",
       "<style scoped>\n",
       "    .dataframe tbody tr th:only-of-type {\n",
       "        vertical-align: middle;\n",
       "    }\n",
       "\n",
       "    .dataframe tbody tr th {\n",
       "        vertical-align: top;\n",
       "    }\n",
       "\n",
       "    .dataframe thead th {\n",
       "        text-align: right;\n",
       "    }\n",
       "</style>\n",
       "<table border=\"1\" class=\"dataframe\">\n",
       "  <thead>\n",
       "    <tr style=\"text-align: right;\">\n",
       "      <th></th>\n",
       "      <th>Total Schools</th>\n",
       "      <th>Total Students</th>\n",
       "      <th>Total Budget</th>\n",
       "      <th>Average Math Score</th>\n",
       "      <th>Average Reading Score</th>\n",
       "      <th>% Passing Math</th>\n",
       "      <th>% Passing Reading</th>\n",
       "      <th>% Overall Passing</th>\n",
       "    </tr>\n",
       "  </thead>\n",
       "  <tbody>\n",
       "    <tr>\n",
       "      <th>0</th>\n",
       "      <td>15</td>\n",
       "      <td>39170</td>\n",
       "      <td>24649428</td>\n",
       "      <td>78.985371</td>\n",
       "      <td>81.87784</td>\n",
       "      <td>74.980853</td>\n",
       "      <td>85.805463</td>\n",
       "      <td>65.172326</td>\n",
       "    </tr>\n",
       "  </tbody>\n",
       "</table>\n",
       "</div>"
      ],
      "text/plain": [
       "   Total Schools  Total Students  Total Budget  Average Math Score  \\\n",
       "0             15           39170      24649428           78.985371   \n",
       "\n",
       "   Average Reading Score  % Passing Math  % Passing Reading  % Overall Passing  \n",
       "0               81.87784       74.980853          85.805463          65.172326  "
      ]
     },
     "execution_count": 45,
     "metadata": {},
     "output_type": "execute_result"
    }
   ],
   "source": [
    "# Adding a list of values with keys to create teh summary DF\n",
    "district_summary_df = pd.DataFrame(\n",
    "            [{'Total Schools' : school_count,\n",
    "             'Total Students' : student_count,\n",
    "             'Total Budget' : total_budget,\n",
    "             'Average Math Score': avg_math_score,\n",
    "             'Average Reading Score' : avg_reading_score,\n",
    "             '% Passing Math': passing_math_prcnt,\n",
    "             '% Passing Reading': passing_reading_prcnt,\n",
    "             '% Overall Passing': overall_passing_prcnt}])\n",
    "district_summary_df"
   ]
  },
  {
   "cell_type": "code",
   "execution_count": 47,
   "id": "666f2fbc",
   "metadata": {},
   "outputs": [
    {
     "data": {
      "text/plain": [
       "0    39,170\n",
       "Name: Total Students, dtype: object"
      ]
     },
     "execution_count": 47,
     "metadata": {},
     "output_type": "execute_result"
    }
   ],
   "source": [
    "# Format 'Total Students' witha comma for the thousands separator\n",
    "district_summary_df['Total Students'] = district_summary_df['Total Students'].map('{:,}'.format)\n",
    "district_summary_df['Total Students']"
   ]
  },
  {
   "cell_type": "code",
   "execution_count": 48,
   "id": "38762676",
   "metadata": {},
   "outputs": [
    {
     "data": {
      "text/plain": [
       "0    $24,649,428.00\n",
       "Name: Total Budget, dtype: object"
      ]
     },
     "execution_count": 48,
     "metadata": {},
     "output_type": "execute_result"
    }
   ],
   "source": [
    "# Format 'Total Budget' with thousand separator, a decimal separator and a '$'\n",
    "district_summary_df['Total Budget'] = district_summary_df['Total Budget'].map(\"${:,.2f}\".format)\n",
    "district_summary_df['Total Budget']"
   ]
  },
  {
   "cell_type": "code",
   "execution_count": 50,
   "id": "ece18eaf",
   "metadata": {},
   "outputs": [],
   "source": [
    "# Format the rest of the columns\n",
    "district_summary_df['Average Math Score'] = district_summary_df['Average Math Score'].map('{:.1f}'.format)\n",
    "district_summary_df['Average Reading Score'] = district_summary_df['Average Reading Score'].map('{:.1f}'.format)\n",
    "district_summary_df['% Passing Math'] = district_summary_df['% Passing Math'].map('{:.0f}'.format)\n",
    "district_summary_df['% Passing Reading'] = district_summary_df['% Passing Reading'].map('{:.0f}'.format)\n",
    "district_summary_df['% Overall Passing'] = district_summary_df['% Overall Passing'].map('{:.0f}'.format)"
   ]
  },
  {
   "cell_type": "code",
   "execution_count": 51,
   "id": "d04c3c6d",
   "metadata": {},
   "outputs": [
    {
     "data": {
      "text/html": [
       "<div>\n",
       "<style scoped>\n",
       "    .dataframe tbody tr th:only-of-type {\n",
       "        vertical-align: middle;\n",
       "    }\n",
       "\n",
       "    .dataframe tbody tr th {\n",
       "        vertical-align: top;\n",
       "    }\n",
       "\n",
       "    .dataframe thead th {\n",
       "        text-align: right;\n",
       "    }\n",
       "</style>\n",
       "<table border=\"1\" class=\"dataframe\">\n",
       "  <thead>\n",
       "    <tr style=\"text-align: right;\">\n",
       "      <th></th>\n",
       "      <th>Total Schools</th>\n",
       "      <th>Total Students</th>\n",
       "      <th>Total Budget</th>\n",
       "      <th>Average Math Score</th>\n",
       "      <th>Average Reading Score</th>\n",
       "      <th>% Passing Math</th>\n",
       "      <th>% Passing Reading</th>\n",
       "      <th>% Overall Passing</th>\n",
       "    </tr>\n",
       "  </thead>\n",
       "  <tbody>\n",
       "    <tr>\n",
       "      <th>0</th>\n",
       "      <td>15</td>\n",
       "      <td>39,170</td>\n",
       "      <td>$24,649,428.00</td>\n",
       "      <td>79.0</td>\n",
       "      <td>81.9</td>\n",
       "      <td>75</td>\n",
       "      <td>86</td>\n",
       "      <td>65</td>\n",
       "    </tr>\n",
       "  </tbody>\n",
       "</table>\n",
       "</div>"
      ],
      "text/plain": [
       "   Total Schools Total Students    Total Budget Average Math Score  \\\n",
       "0             15         39,170  $24,649,428.00               79.0   \n",
       "\n",
       "  Average Reading Score % Passing Math % Passing Reading % Overall Passing  \n",
       "0                  81.9             75                86                65  "
      ]
     },
     "execution_count": 51,
     "metadata": {},
     "output_type": "execute_result"
    }
   ],
   "source": [
    "district_summary_df"
   ]
  },
  {
   "cell_type": "code",
   "execution_count": null,
   "id": "54e8031f",
   "metadata": {},
   "outputs": [],
   "source": []
  }
 ],
 "metadata": {
  "kernelspec": {
   "display_name": "PythonData",
   "language": "python",
   "name": "pythondata"
  },
  "language_info": {
   "codemirror_mode": {
    "name": "ipython",
    "version": 3
   },
   "file_extension": ".py",
   "mimetype": "text/x-python",
   "name": "python",
   "nbconvert_exporter": "python",
   "pygments_lexer": "ipython3",
   "version": "3.7.11"
  }
 },
 "nbformat": 4,
 "nbformat_minor": 5
}
