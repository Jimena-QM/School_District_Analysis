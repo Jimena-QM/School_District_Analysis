{
 "cells": [
  {
   "cell_type": "code",
   "execution_count": 1,
   "id": "9108c6f1",
   "metadata": {},
   "outputs": [],
   "source": [
    "import pandas as pd\n",
    "import os\n",
    "# Files to load using OS.PATH.JOIN()\n",
    "#school_data_to_load2 = os.path.join(\"Resrouces\", \"schools_complete.csv\")\n",
    "#student_data_to_load2 = os.path.join(\"Resources\", \"students_complete.csv\")"
   ]
  },
  {
   "cell_type": "code",
   "execution_count": 2,
   "id": "126f4073",
   "metadata": {},
   "outputs": [],
   "source": [
    "# Files to load\n",
    "school_data_to_load =\"Resources/schools_complete.csv\"\n",
    "student_data_to_load = \"Resources/students_complete.csv\""
   ]
  },
  {
   "cell_type": "code",
   "execution_count": 3,
   "id": "47592ebe",
   "metadata": {},
   "outputs": [],
   "source": [
    "# Read school data and store in pd.DataFrame\n",
    "school_data_df = pd.read_csv(school_data_to_load)\n",
    "student_data_df = pd.read_csv(student_data_to_load)"
   ]
  },
  {
   "cell_type": "code",
   "execution_count": 4,
   "id": "6d1ea028",
   "metadata": {},
   "outputs": [
    {
     "name": "stdout",
     "output_type": "stream",
     "text": [
      "   School ID            school_name      type  size   budget\n",
      "0          0      Huang High School  District  2917  1910635\n",
      "1          1   Figueroa High School  District  2949  1884411\n",
      "2          2    Shelton High School   Charter  1761  1056600\n",
      "3          3  Hernandez High School  District  4635  3022020\n",
      "4          4    Griffin High School   Charter  1468   917500\n"
     ]
    }
   ],
   "source": [
    "# Get the first rows of the df with .head() and the last rows with .tail()\n",
    "print(school_data_df.head())\n",
    "#print(student_data_df.head())\n",
    "#print(school_data_df.tail())\n",
    "#print(student_data_df.tail())"
   ]
  },
  {
   "cell_type": "code",
   "execution_count": 5,
   "id": "8cec0e1d",
   "metadata": {},
   "outputs": [
    {
     "data": {
      "text/plain": [
       "School ID      15\n",
       "school_name    15\n",
       "type           15\n",
       "size           15\n",
       "budget         15\n",
       "dtype: int64"
      ]
     },
     "execution_count": 5,
     "metadata": {},
     "output_type": "execute_result"
    }
   ],
   "source": [
    "#Determine if there are missing values with .count()\n",
    "school_data_df.count()"
   ]
  },
  {
   "cell_type": "code",
   "execution_count": 6,
   "id": "b475956f",
   "metadata": {},
   "outputs": [
    {
     "data": {
      "text/plain": [
       "Student ID       39170\n",
       "student_name     39170\n",
       "gender           39170\n",
       "grade            39170\n",
       "school_name      39170\n",
       "reading_score    39170\n",
       "math_score       39170\n",
       "dtype: int64"
      ]
     },
     "execution_count": 6,
     "metadata": {},
     "output_type": "execute_result"
    }
   ],
   "source": [
    "student_data_df.count()"
   ]
  },
  {
   "cell_type": "code",
   "execution_count": 7,
   "id": "9d705684",
   "metadata": {},
   "outputs": [
    {
     "data": {
      "text/plain": [
       "Student ID       0\n",
       "student_name     0\n",
       "gender           0\n",
       "grade            0\n",
       "school_name      0\n",
       "reading_score    0\n",
       "math_score       0\n",
       "dtype: int64"
      ]
     },
     "execution_count": 7,
     "metadata": {},
     "output_type": "execute_result"
    }
   ],
   "source": [
    "student_data_df.isnull().sum()"
   ]
  },
  {
   "cell_type": "code",
   "execution_count": 8,
   "id": "af3b8b67",
   "metadata": {},
   "outputs": [
    {
     "data": {
      "text/plain": [
       "School ID      15\n",
       "school_name    15\n",
       "type           15\n",
       "size           15\n",
       "budget         15\n",
       "dtype: int64"
      ]
     },
     "execution_count": 8,
     "metadata": {},
     "output_type": "execute_result"
    }
   ],
   "source": [
    "school_data_df.notnull().sum()"
   ]
  },
  {
   "cell_type": "code",
   "execution_count": 9,
   "id": "9aff1e3d",
   "metadata": {},
   "outputs": [
    {
     "data": {
      "text/plain": [
       "Student ID       39170\n",
       "student_name     39170\n",
       "gender           39170\n",
       "grade            39170\n",
       "school_name      39170\n",
       "reading_score    39170\n",
       "math_score       39170\n",
       "dtype: int64"
      ]
     },
     "execution_count": 9,
     "metadata": {},
     "output_type": "execute_result"
    }
   ],
   "source": [
    "student_data_df.notnull().sum()"
   ]
  },
  {
   "cell_type": "code",
   "execution_count": 10,
   "id": "9372a133",
   "metadata": {},
   "outputs": [
    {
     "data": {
      "text/plain": [
       "School ID       int64\n",
       "school_name    object\n",
       "type           object\n",
       "size            int64\n",
       "budget          int64\n",
       "dtype: object"
      ]
     },
     "execution_count": 10,
     "metadata": {},
     "output_type": "execute_result"
    }
   ],
   "source": [
    "# Data Types with -dtypes of the school df\n",
    "school_data_df.dtypes"
   ]
  },
  {
   "cell_type": "code",
   "execution_count": 11,
   "id": "0f0c12a2",
   "metadata": {},
   "outputs": [
    {
     "data": {
      "text/plain": [
       "dtype('int64')"
      ]
     },
     "execution_count": 11,
     "metadata": {},
     "output_type": "execute_result"
    }
   ],
   "source": [
    "school_data_df.budget.dtypes"
   ]
  },
  {
   "cell_type": "code",
   "execution_count": 12,
   "id": "2aa2bb83",
   "metadata": {},
   "outputs": [
    {
     "data": {
      "text/plain": [
       "Student ID        int64\n",
       "student_name     object\n",
       "gender           object\n",
       "grade            object\n",
       "school_name      object\n",
       "reading_score     int64\n",
       "math_score        int64\n",
       "dtype: object"
      ]
     },
     "execution_count": 12,
     "metadata": {},
     "output_type": "execute_result"
    }
   ],
   "source": [
    "student_data_df.dtypes"
   ]
  },
  {
   "cell_type": "code",
   "execution_count": 13,
   "id": "6f24afaa",
   "metadata": {},
   "outputs": [
    {
     "name": "stdout",
     "output_type": "stream",
     "text": [
      "0       Paul Bradley\n",
      "1       Victor Smith\n",
      "2    Kevin Rodriguez\n",
      "3      Richard Scott\n",
      "4         Bonnie Ray\n",
      "5      Bryan Miranda\n",
      "6      Sheena Carter\n",
      "7       Nicole Baker\n",
      "8       Michael Roth\n",
      "9     Matthew Greene\n",
      "Name: student_name, dtype: object\n"
     ]
    }
   ],
   "source": [
    "# Cleaning the prefixes and suffixes in student_names\n",
    "# Add prefixes and suffixes to remove from student_names in a list\n",
    "prefixes_suffixes = ['Dr. ', 'Mr. ', 'Ms. ', 'Mrs. ', 'Miss ', ' MD', ' DDS', ' DVM', ' PhD']\n",
    "# Iterate through prefixes_suffixes list and replace them with an empty space when it appears in the student's name. \n",
    "# Since student_names is an object it must convert it to str in order to use thee replace method available ONLY for strings\n",
    "\n",
    "for word in prefixes_suffixes:\n",
    "    student_data_df['student_name'] = student_data_df['student_name'].str.replace(word, '', regex = True)\n",
    "    \n",
    "print(student_data_df['student_name'].head(10))"
   ]
  },
  {
   "cell_type": "code",
   "execution_count": 14,
   "id": "a0b6bfac",
   "metadata": {},
   "outputs": [
    {
     "data": {
      "text/plain": [
       "True"
      ]
     },
     "execution_count": 14,
     "metadata": {},
     "output_type": "execute_result"
    }
   ],
   "source": [
    "#Check if the module student df is the same as the one cleaned by me\n",
    "clean_data_to_load =  \"Resources/clean_students_complete.csv\"\n",
    "\n",
    "student_data_clean_df = pd.read_csv(clean_data_to_load)\n",
    "\n",
    "student_data_df['student_name'].equals(student_data_clean_df['student_name'])"
   ]
  },
  {
   "cell_type": "code",
   "execution_count": 15,
   "id": "181fcc11",
   "metadata": {},
   "outputs": [
    {
     "data": {
      "text/html": [
       "<div>\n",
       "<style scoped>\n",
       "    .dataframe tbody tr th:only-of-type {\n",
       "        vertical-align: middle;\n",
       "    }\n",
       "\n",
       "    .dataframe tbody tr th {\n",
       "        vertical-align: top;\n",
       "    }\n",
       "\n",
       "    .dataframe thead th {\n",
       "        text-align: right;\n",
       "    }\n",
       "</style>\n",
       "<table border=\"1\" class=\"dataframe\">\n",
       "  <thead>\n",
       "    <tr style=\"text-align: right;\">\n",
       "      <th></th>\n",
       "      <th>Student ID</th>\n",
       "      <th>student_name</th>\n",
       "      <th>gender</th>\n",
       "      <th>grade</th>\n",
       "      <th>school_name</th>\n",
       "      <th>reading_score</th>\n",
       "      <th>math_score</th>\n",
       "      <th>School ID</th>\n",
       "      <th>type</th>\n",
       "      <th>size</th>\n",
       "      <th>budget</th>\n",
       "    </tr>\n",
       "  </thead>\n",
       "  <tbody>\n",
       "    <tr>\n",
       "      <th>0</th>\n",
       "      <td>0</td>\n",
       "      <td>Paul Bradley</td>\n",
       "      <td>M</td>\n",
       "      <td>9th</td>\n",
       "      <td>Huang High School</td>\n",
       "      <td>66</td>\n",
       "      <td>79</td>\n",
       "      <td>0</td>\n",
       "      <td>District</td>\n",
       "      <td>2917</td>\n",
       "      <td>1910635</td>\n",
       "    </tr>\n",
       "    <tr>\n",
       "      <th>1</th>\n",
       "      <td>1</td>\n",
       "      <td>Victor Smith</td>\n",
       "      <td>M</td>\n",
       "      <td>12th</td>\n",
       "      <td>Huang High School</td>\n",
       "      <td>94</td>\n",
       "      <td>61</td>\n",
       "      <td>0</td>\n",
       "      <td>District</td>\n",
       "      <td>2917</td>\n",
       "      <td>1910635</td>\n",
       "    </tr>\n",
       "    <tr>\n",
       "      <th>2</th>\n",
       "      <td>2</td>\n",
       "      <td>Kevin Rodriguez</td>\n",
       "      <td>M</td>\n",
       "      <td>12th</td>\n",
       "      <td>Huang High School</td>\n",
       "      <td>90</td>\n",
       "      <td>60</td>\n",
       "      <td>0</td>\n",
       "      <td>District</td>\n",
       "      <td>2917</td>\n",
       "      <td>1910635</td>\n",
       "    </tr>\n",
       "    <tr>\n",
       "      <th>3</th>\n",
       "      <td>3</td>\n",
       "      <td>Richard Scott</td>\n",
       "      <td>M</td>\n",
       "      <td>12th</td>\n",
       "      <td>Huang High School</td>\n",
       "      <td>67</td>\n",
       "      <td>58</td>\n",
       "      <td>0</td>\n",
       "      <td>District</td>\n",
       "      <td>2917</td>\n",
       "      <td>1910635</td>\n",
       "    </tr>\n",
       "    <tr>\n",
       "      <th>4</th>\n",
       "      <td>4</td>\n",
       "      <td>Bonnie Ray</td>\n",
       "      <td>F</td>\n",
       "      <td>9th</td>\n",
       "      <td>Huang High School</td>\n",
       "      <td>97</td>\n",
       "      <td>84</td>\n",
       "      <td>0</td>\n",
       "      <td>District</td>\n",
       "      <td>2917</td>\n",
       "      <td>1910635</td>\n",
       "    </tr>\n",
       "  </tbody>\n",
       "</table>\n",
       "</div>"
      ],
      "text/plain": [
       "   Student ID     student_name gender grade        school_name  reading_score  \\\n",
       "0           0     Paul Bradley      M   9th  Huang High School             66   \n",
       "1           1     Victor Smith      M  12th  Huang High School             94   \n",
       "2           2  Kevin Rodriguez      M  12th  Huang High School             90   \n",
       "3           3    Richard Scott      M  12th  Huang High School             67   \n",
       "4           4       Bonnie Ray      F   9th  Huang High School             97   \n",
       "\n",
       "   math_score  School ID      type  size   budget  \n",
       "0          79          0  District  2917  1910635  \n",
       "1          61          0  District  2917  1910635  \n",
       "2          60          0  District  2917  1910635  \n",
       "3          58          0  District  2917  1910635  \n",
       "4          84          0  District  2917  1910635  "
      ]
     },
     "execution_count": 15,
     "metadata": {},
     "output_type": "execute_result"
    }
   ],
   "source": [
    "# Inner merge of student and school df\n",
    "\n",
    "school_data_complete_df = pd.merge(student_data_df, school_data_df, on ='school_name')\n",
    "school_data_complete_df.head()"
   ]
  },
  {
   "cell_type": "code",
   "execution_count": 16,
   "id": "88389d6f",
   "metadata": {},
   "outputs": [
    {
     "data": {
      "text/plain": [
       "39170"
      ]
     },
     "execution_count": 16,
     "metadata": {},
     "output_type": "execute_result"
    }
   ],
   "source": [
    "# Get the total number of sutdents\n",
    "student_count = school_data_complete_df['Student ID'].count()\n",
    "student_count"
   ]
  },
  {
   "cell_type": "code",
   "execution_count": 17,
   "id": "bf1c0831",
   "metadata": {},
   "outputs": [
    {
     "data": {
      "text/plain": [
       "15"
      ]
     },
     "execution_count": 17,
     "metadata": {},
     "output_type": "execute_result"
    }
   ],
   "source": [
    "# Calculate the total number of schools\n",
    "school_count = len(school_data_complete_df['school_name'].unique())\n",
    "school_count"
   ]
  },
  {
   "cell_type": "code",
   "execution_count": 18,
   "id": "8292dc64",
   "metadata": {},
   "outputs": [
    {
     "data": {
      "text/plain": [
       "24649428"
      ]
     },
     "execution_count": 18,
     "metadata": {},
     "output_type": "execute_result"
    }
   ],
   "source": [
    "#Calculate the total budget\n",
    "total_budget = school_data_df['budget'].sum()\n",
    "total_budget"
   ]
  },
  {
   "cell_type": "code",
   "execution_count": 19,
   "id": "c389aece",
   "metadata": {},
   "outputs": [
    {
     "name": "stdout",
     "output_type": "stream",
     "text": [
      "Avg Reading Score: 81.87784018381414\n",
      "Avg Math Score: 78.98537145774827\n"
     ]
    }
   ],
   "source": [
    "# Calculate the average reading and math score\n",
    "avg_reading_score = school_data_complete_df['reading_score'].mean()\n",
    "print('Avg Reading Score: ' + str(avg_reading_score))\n",
    "avg_math_score = school_data_complete_df['math_score'].mean()\n",
    "print('Avg Math Score: ' + str(avg_math_score))"
   ]
  },
  {
   "cell_type": "code",
   "execution_count": 20,
   "id": "d6f19833",
   "metadata": {},
   "outputs": [
    {
     "name": "stdout",
     "output_type": "stream",
     "text": [
      "   Student ID   student_name gender grade        school_name  reading_score  \\\n",
      "0           0   Paul Bradley      M   9th  Huang High School             66   \n",
      "4           4     Bonnie Ray      F   9th  Huang High School             97   \n",
      "5           5  Bryan Miranda      M   9th  Huang High School             94   \n",
      "6           6  Sheena Carter      F  11th  Huang High School             82   \n",
      "8           8   Michael Roth      M  10th  Huang High School             95   \n",
      "\n",
      "   math_score  School ID      type  size   budget  \n",
      "0          79          0  District  2917  1910635  \n",
      "4          84          0  District  2917  1910635  \n",
      "5          94          0  District  2917  1910635  \n",
      "6          80          0  District  2917  1910635  \n",
      "8          87          0  District  2917  1910635  \n"
     ]
    }
   ],
   "source": [
    "# Determine the passing grade for math and reading\n",
    "passing_math = school_data_complete_df[school_data_complete_df['math_score'] >= 70]\n",
    "passing_reading = school_data_complete_df[school_data_complete_df['reading_score'] >= 70]\n",
    "print(passing_math.head())"
   ]
  },
  {
   "cell_type": "code",
   "execution_count": 21,
   "id": "b2c556e4",
   "metadata": {},
   "outputs": [
    {
     "name": "stdout",
     "output_type": "stream",
     "text": [
      "29370 33610\n"
     ]
    }
   ],
   "source": [
    "# Calculate the number of students who passed math and reading\n",
    "passing_math_count = passing_math['student_name'].count()\n",
    "passing_reading_count = passing_reading['student_name'].count()\n",
    "print(passing_math_count, passing_reading_count)"
   ]
  },
  {
   "cell_type": "code",
   "execution_count": 22,
   "id": "c61c7398",
   "metadata": {},
   "outputs": [
    {
     "name": "stdout",
     "output_type": "stream",
     "text": [
      "74.9808526933878 85.80546336482001\n"
     ]
    }
   ],
   "source": [
    "# Calculate the prcnt of passed math and reding\n",
    "passing_math_prcnt = passing_math_count / float(student_count) * 100\n",
    "passing_reading_prcnt = passing_reading_count / float(student_count) * 100\n",
    "print(passing_math_prcnt , passing_reading_prcnt)"
   ]
  },
  {
   "cell_type": "code",
   "execution_count": 23,
   "id": "e3734a13",
   "metadata": {},
   "outputs": [
    {
     "data": {
      "text/html": [
       "<div>\n",
       "<style scoped>\n",
       "    .dataframe tbody tr th:only-of-type {\n",
       "        vertical-align: middle;\n",
       "    }\n",
       "\n",
       "    .dataframe tbody tr th {\n",
       "        vertical-align: top;\n",
       "    }\n",
       "\n",
       "    .dataframe thead th {\n",
       "        text-align: right;\n",
       "    }\n",
       "</style>\n",
       "<table border=\"1\" class=\"dataframe\">\n",
       "  <thead>\n",
       "    <tr style=\"text-align: right;\">\n",
       "      <th></th>\n",
       "      <th>Student ID</th>\n",
       "      <th>student_name</th>\n",
       "      <th>gender</th>\n",
       "      <th>grade</th>\n",
       "      <th>school_name</th>\n",
       "      <th>reading_score</th>\n",
       "      <th>math_score</th>\n",
       "      <th>School ID</th>\n",
       "      <th>type</th>\n",
       "      <th>size</th>\n",
       "      <th>budget</th>\n",
       "    </tr>\n",
       "  </thead>\n",
       "  <tbody>\n",
       "    <tr>\n",
       "      <th>4</th>\n",
       "      <td>4</td>\n",
       "      <td>Bonnie Ray</td>\n",
       "      <td>F</td>\n",
       "      <td>9th</td>\n",
       "      <td>Huang High School</td>\n",
       "      <td>97</td>\n",
       "      <td>84</td>\n",
       "      <td>0</td>\n",
       "      <td>District</td>\n",
       "      <td>2917</td>\n",
       "      <td>1910635</td>\n",
       "    </tr>\n",
       "    <tr>\n",
       "      <th>5</th>\n",
       "      <td>5</td>\n",
       "      <td>Bryan Miranda</td>\n",
       "      <td>M</td>\n",
       "      <td>9th</td>\n",
       "      <td>Huang High School</td>\n",
       "      <td>94</td>\n",
       "      <td>94</td>\n",
       "      <td>0</td>\n",
       "      <td>District</td>\n",
       "      <td>2917</td>\n",
       "      <td>1910635</td>\n",
       "    </tr>\n",
       "    <tr>\n",
       "      <th>6</th>\n",
       "      <td>6</td>\n",
       "      <td>Sheena Carter</td>\n",
       "      <td>F</td>\n",
       "      <td>11th</td>\n",
       "      <td>Huang High School</td>\n",
       "      <td>82</td>\n",
       "      <td>80</td>\n",
       "      <td>0</td>\n",
       "      <td>District</td>\n",
       "      <td>2917</td>\n",
       "      <td>1910635</td>\n",
       "    </tr>\n",
       "    <tr>\n",
       "      <th>8</th>\n",
       "      <td>8</td>\n",
       "      <td>Michael Roth</td>\n",
       "      <td>M</td>\n",
       "      <td>10th</td>\n",
       "      <td>Huang High School</td>\n",
       "      <td>95</td>\n",
       "      <td>87</td>\n",
       "      <td>0</td>\n",
       "      <td>District</td>\n",
       "      <td>2917</td>\n",
       "      <td>1910635</td>\n",
       "    </tr>\n",
       "    <tr>\n",
       "      <th>9</th>\n",
       "      <td>9</td>\n",
       "      <td>Matthew Greene</td>\n",
       "      <td>M</td>\n",
       "      <td>10th</td>\n",
       "      <td>Huang High School</td>\n",
       "      <td>96</td>\n",
       "      <td>84</td>\n",
       "      <td>0</td>\n",
       "      <td>District</td>\n",
       "      <td>2917</td>\n",
       "      <td>1910635</td>\n",
       "    </tr>\n",
       "  </tbody>\n",
       "</table>\n",
       "</div>"
      ],
      "text/plain": [
       "   Student ID    student_name gender grade        school_name  reading_score  \\\n",
       "4           4      Bonnie Ray      F   9th  Huang High School             97   \n",
       "5           5   Bryan Miranda      M   9th  Huang High School             94   \n",
       "6           6   Sheena Carter      F  11th  Huang High School             82   \n",
       "8           8    Michael Roth      M  10th  Huang High School             95   \n",
       "9           9  Matthew Greene      M  10th  Huang High School             96   \n",
       "\n",
       "   math_score  School ID      type  size   budget  \n",
       "4          84          0  District  2917  1910635  \n",
       "5          94          0  District  2917  1910635  \n",
       "6          80          0  District  2917  1910635  \n",
       "8          87          0  District  2917  1910635  \n",
       "9          84          0  District  2917  1910635  "
      ]
     },
     "execution_count": 23,
     "metadata": {},
     "output_type": "execute_result"
    }
   ],
   "source": [
    "# Calculate the number of sutdents who passed both math and reading\n",
    "passing_math_reading = school_data_complete_df[(school_data_complete_df['math_score']>= 70) & (school_data_complete_df['reading_score']>=70)]\n",
    "passing_math_reading.head()"
   ]
  },
  {
   "cell_type": "code",
   "execution_count": 24,
   "id": "642b3c24",
   "metadata": {},
   "outputs": [
    {
     "data": {
      "text/plain": [
       "65.17232575950983"
      ]
     },
     "execution_count": 24,
     "metadata": {},
     "output_type": "execute_result"
    }
   ],
   "source": [
    "# Calculate the number of students who passed both math and reading\n",
    "overall_passing_math_reading_count = passing_math_reading.student_name.count()\n",
    "#Caclulate the prcnt of students who passed both math and reading\n",
    "overall_passing_prcnt = overall_passing_math_reading_count / student_count * 100\n",
    "overall_passing_prcnt"
   ]
  },
  {
   "cell_type": "code",
   "execution_count": 25,
   "id": "2a468de7",
   "metadata": {},
   "outputs": [
    {
     "data": {
      "text/html": [
       "<div>\n",
       "<style scoped>\n",
       "    .dataframe tbody tr th:only-of-type {\n",
       "        vertical-align: middle;\n",
       "    }\n",
       "\n",
       "    .dataframe tbody tr th {\n",
       "        vertical-align: top;\n",
       "    }\n",
       "\n",
       "    .dataframe thead th {\n",
       "        text-align: right;\n",
       "    }\n",
       "</style>\n",
       "<table border=\"1\" class=\"dataframe\">\n",
       "  <thead>\n",
       "    <tr style=\"text-align: right;\">\n",
       "      <th></th>\n",
       "      <th>Total Schools</th>\n",
       "      <th>Total Students</th>\n",
       "      <th>Total Budget</th>\n",
       "      <th>Average Math Score</th>\n",
       "      <th>Average Reading Score</th>\n",
       "      <th>% Passing Math</th>\n",
       "      <th>% Passing Reading</th>\n",
       "      <th>% Overall Passing</th>\n",
       "    </tr>\n",
       "  </thead>\n",
       "  <tbody>\n",
       "    <tr>\n",
       "      <th>0</th>\n",
       "      <td>15</td>\n",
       "      <td>39170</td>\n",
       "      <td>24649428</td>\n",
       "      <td>78.985371</td>\n",
       "      <td>81.87784</td>\n",
       "      <td>74.980853</td>\n",
       "      <td>85.805463</td>\n",
       "      <td>65.172326</td>\n",
       "    </tr>\n",
       "  </tbody>\n",
       "</table>\n",
       "</div>"
      ],
      "text/plain": [
       "   Total Schools  Total Students  Total Budget  Average Math Score  \\\n",
       "0             15           39170      24649428           78.985371   \n",
       "\n",
       "   Average Reading Score  % Passing Math  % Passing Reading  % Overall Passing  \n",
       "0               81.87784       74.980853          85.805463          65.172326  "
      ]
     },
     "execution_count": 25,
     "metadata": {},
     "output_type": "execute_result"
    }
   ],
   "source": [
    "# Adding a list of values with keys to create the summary DF\n",
    "district_summary_df = pd.DataFrame(\n",
    "            [{'Total Schools' : school_count,\n",
    "             'Total Students' : student_count,\n",
    "             'Total Budget' : total_budget,\n",
    "             'Average Math Score': avg_math_score,\n",
    "             'Average Reading Score' : avg_reading_score,\n",
    "             '% Passing Math': passing_math_prcnt,\n",
    "             '% Passing Reading': passing_reading_prcnt,\n",
    "             '% Overall Passing': overall_passing_prcnt}])\n",
    "district_summary_df"
   ]
  },
  {
   "cell_type": "code",
   "execution_count": 26,
   "id": "c696fc61",
   "metadata": {},
   "outputs": [
    {
     "data": {
      "text/plain": [
       "0    39,170\n",
       "Name: Total Students, dtype: object"
      ]
     },
     "execution_count": 26,
     "metadata": {},
     "output_type": "execute_result"
    }
   ],
   "source": [
    "# Format 'Total Students' with a comma for the thousands separator\n",
    "district_summary_df['Total Students'] = district_summary_df['Total Students'].map('{:,}'.format)\n",
    "district_summary_df['Total Students']"
   ]
  },
  {
   "cell_type": "code",
   "execution_count": 27,
   "id": "e7522f0a",
   "metadata": {},
   "outputs": [
    {
     "data": {
      "text/plain": [
       "0    $24,649,428.00\n",
       "Name: Total Budget, dtype: object"
      ]
     },
     "execution_count": 27,
     "metadata": {},
     "output_type": "execute_result"
    }
   ],
   "source": [
    "# Format 'Total Budget' with thousand separator, a decimal separator and a '$'\n",
    "district_summary_df['Total Budget'] = district_summary_df['Total Budget'].map(\"${:,.2f}\".format)\n",
    "district_summary_df['Total Budget']"
   ]
  },
  {
   "cell_type": "code",
   "execution_count": 28,
   "id": "2900ef0f",
   "metadata": {},
   "outputs": [],
   "source": [
    "# Format the rest of the columns\n",
    "district_summary_df['Average Math Score'] = district_summary_df['Average Math Score'].map('{:.1f}'.format)\n",
    "district_summary_df['Average Reading Score'] = district_summary_df['Average Reading Score'].map('{:.1f}'.format)\n",
    "district_summary_df['% Passing Math'] = district_summary_df['% Passing Math'].map('{:.0f}'.format)\n",
    "district_summary_df['% Passing Reading'] = district_summary_df['% Passing Reading'].map('{:.0f}'.format)\n",
    "district_summary_df['% Overall Passing'] = district_summary_df['% Overall Passing'].map('{:.0f}'.format)"
   ]
  },
  {
   "cell_type": "code",
   "execution_count": 29,
   "id": "9a5a60ca",
   "metadata": {},
   "outputs": [
    {
     "data": {
      "text/html": [
       "<div>\n",
       "<style scoped>\n",
       "    .dataframe tbody tr th:only-of-type {\n",
       "        vertical-align: middle;\n",
       "    }\n",
       "\n",
       "    .dataframe tbody tr th {\n",
       "        vertical-align: top;\n",
       "    }\n",
       "\n",
       "    .dataframe thead th {\n",
       "        text-align: right;\n",
       "    }\n",
       "</style>\n",
       "<table border=\"1\" class=\"dataframe\">\n",
       "  <thead>\n",
       "    <tr style=\"text-align: right;\">\n",
       "      <th></th>\n",
       "      <th>Total Schools</th>\n",
       "      <th>Total Students</th>\n",
       "      <th>Total Budget</th>\n",
       "      <th>Average Math Score</th>\n",
       "      <th>Average Reading Score</th>\n",
       "      <th>% Passing Math</th>\n",
       "      <th>% Passing Reading</th>\n",
       "      <th>% Overall Passing</th>\n",
       "    </tr>\n",
       "  </thead>\n",
       "  <tbody>\n",
       "    <tr>\n",
       "      <th>0</th>\n",
       "      <td>15</td>\n",
       "      <td>39,170</td>\n",
       "      <td>$24,649,428.00</td>\n",
       "      <td>79.0</td>\n",
       "      <td>81.9</td>\n",
       "      <td>75</td>\n",
       "      <td>86</td>\n",
       "      <td>65</td>\n",
       "    </tr>\n",
       "  </tbody>\n",
       "</table>\n",
       "</div>"
      ],
      "text/plain": [
       "   Total Schools Total Students    Total Budget Average Math Score  \\\n",
       "0             15         39,170  $24,649,428.00               79.0   \n",
       "\n",
       "  Average Reading Score % Passing Math % Passing Reading % Overall Passing  \n",
       "0                  81.9             75                86                65  "
      ]
     },
     "execution_count": 29,
     "metadata": {},
     "output_type": "execute_result"
    }
   ],
   "source": [
    "district_summary_df"
   ]
  },
  {
   "cell_type": "code",
   "execution_count": 30,
   "id": "3845a23b",
   "metadata": {},
   "outputs": [
    {
     "data": {
      "text/plain": [
       "school_name\n",
       "Huang High School        District\n",
       "Figueroa High School     District\n",
       "Shelton High School       Charter\n",
       "Hernandez High School    District\n",
       "Griffin High School       Charter\n",
       "Wilson High School        Charter\n",
       "Cabrera High School       Charter\n",
       "Bailey High School       District\n",
       "Holden High School        Charter\n",
       "Pena High School          Charter\n",
       "Wright High School        Charter\n",
       "Rodriguez High School    District\n",
       "Johnson High School      District\n",
       "Ford High School         District\n",
       "Thomas High School        Charter\n",
       "Name: type, dtype: object"
      ]
     },
     "execution_count": 30,
     "metadata": {},
     "output_type": "execute_result"
    }
   ],
   "source": [
    "#### DISTRICT SUMMARY\n",
    "#Determine the school type\n",
    "\n",
    "per_school_types = school_data_df.set_index(['school_name'])['type']\n",
    "per_school_types"
   ]
  },
  {
   "cell_type": "code",
   "execution_count": 31,
   "id": "01341937",
   "metadata": {},
   "outputs": [
    {
     "data": {
      "text/html": [
       "<div>\n",
       "<style scoped>\n",
       "    .dataframe tbody tr th:only-of-type {\n",
       "        vertical-align: middle;\n",
       "    }\n",
       "\n",
       "    .dataframe tbody tr th {\n",
       "        vertical-align: top;\n",
       "    }\n",
       "\n",
       "    .dataframe thead th {\n",
       "        text-align: right;\n",
       "    }\n",
       "</style>\n",
       "<table border=\"1\" class=\"dataframe\">\n",
       "  <thead>\n",
       "    <tr style=\"text-align: right;\">\n",
       "      <th></th>\n",
       "      <th>School Types</th>\n",
       "    </tr>\n",
       "    <tr>\n",
       "      <th>school_name</th>\n",
       "      <th></th>\n",
       "    </tr>\n",
       "  </thead>\n",
       "  <tbody>\n",
       "    <tr>\n",
       "      <th>Huang High School</th>\n",
       "      <td>District</td>\n",
       "    </tr>\n",
       "    <tr>\n",
       "      <th>Figueroa High School</th>\n",
       "      <td>District</td>\n",
       "    </tr>\n",
       "    <tr>\n",
       "      <th>Shelton High School</th>\n",
       "      <td>Charter</td>\n",
       "    </tr>\n",
       "    <tr>\n",
       "      <th>Hernandez High School</th>\n",
       "      <td>District</td>\n",
       "    </tr>\n",
       "    <tr>\n",
       "      <th>Griffin High School</th>\n",
       "      <td>Charter</td>\n",
       "    </tr>\n",
       "    <tr>\n",
       "      <th>Wilson High School</th>\n",
       "      <td>Charter</td>\n",
       "    </tr>\n",
       "    <tr>\n",
       "      <th>Cabrera High School</th>\n",
       "      <td>Charter</td>\n",
       "    </tr>\n",
       "    <tr>\n",
       "      <th>Bailey High School</th>\n",
       "      <td>District</td>\n",
       "    </tr>\n",
       "    <tr>\n",
       "      <th>Holden High School</th>\n",
       "      <td>Charter</td>\n",
       "    </tr>\n",
       "    <tr>\n",
       "      <th>Pena High School</th>\n",
       "      <td>Charter</td>\n",
       "    </tr>\n",
       "    <tr>\n",
       "      <th>Wright High School</th>\n",
       "      <td>Charter</td>\n",
       "    </tr>\n",
       "    <tr>\n",
       "      <th>Rodriguez High School</th>\n",
       "      <td>District</td>\n",
       "    </tr>\n",
       "    <tr>\n",
       "      <th>Johnson High School</th>\n",
       "      <td>District</td>\n",
       "    </tr>\n",
       "    <tr>\n",
       "      <th>Ford High School</th>\n",
       "      <td>District</td>\n",
       "    </tr>\n",
       "    <tr>\n",
       "      <th>Thomas High School</th>\n",
       "      <td>Charter</td>\n",
       "    </tr>\n",
       "  </tbody>\n",
       "</table>\n",
       "</div>"
      ],
      "text/plain": [
       "                      School Types\n",
       "school_name                       \n",
       "Huang High School         District\n",
       "Figueroa High School      District\n",
       "Shelton High School        Charter\n",
       "Hernandez High School     District\n",
       "Griffin High School        Charter\n",
       "Wilson High School         Charter\n",
       "Cabrera High School        Charter\n",
       "Bailey High School        District\n",
       "Holden High School         Charter\n",
       "Pena High School           Charter\n",
       "Wright High School         Charter\n",
       "Rodriguez High School     District\n",
       "Johnson High School       District\n",
       "Ford High School          District\n",
       "Thomas High School         Charter"
      ]
     },
     "execution_count": 31,
     "metadata": {},
     "output_type": "execute_result"
    }
   ],
   "source": [
    "# Add the per_school_type to a DF for testing\n",
    "\n",
    "df = pd.DataFrame(per_school_types)\n",
    "df = df.rename(columns = {'type':'School Types'})\n",
    "df"
   ]
  },
  {
   "cell_type": "code",
   "execution_count": 32,
   "id": "cd71606a",
   "metadata": {},
   "outputs": [
    {
     "data": {
      "text/plain": [
       "0     2917\n",
       "1     2949\n",
       "2     1761\n",
       "3     4635\n",
       "4     1468\n",
       "5     2283\n",
       "6     1858\n",
       "7     4976\n",
       "8      427\n",
       "9      962\n",
       "10    1800\n",
       "11    3999\n",
       "12    4761\n",
       "13    2739\n",
       "14    1635\n",
       "Name: size, dtype: int64"
      ]
     },
     "execution_count": 32,
     "metadata": {},
     "output_type": "execute_result"
    }
   ],
   "source": [
    "# Calculate the total student count based on school_data_df\n",
    "per_school_counts = school_data_df['size']\n",
    "per_school_counts"
   ]
  },
  {
   "cell_type": "code",
   "execution_count": 33,
   "id": "76c56375",
   "metadata": {},
   "outputs": [
    {
     "data": {
      "text/plain": [
       "school_name\n",
       "Huang High School        2917\n",
       "Figueroa High School     2949\n",
       "Shelton High School      1761\n",
       "Hernandez High School    4635\n",
       "Griffin High School      1468\n",
       "Wilson High School       2283\n",
       "Cabrera High School      1858\n",
       "Bailey High School       4976\n",
       "Holden High School        427\n",
       "Pena High School          962\n",
       "Wright High School       1800\n",
       "Rodriguez High School    3999\n",
       "Johnson High School      4761\n",
       "Ford High School         2739\n",
       "Thomas High School       1635\n",
       "Name: size, dtype: int64"
      ]
     },
     "execution_count": 33,
     "metadata": {},
     "output_type": "execute_result"
    }
   ],
   "source": [
    "# Calculate the total student count based on school_data_df and set_index() to school_name\n",
    "per_school_counts = school_data_df.set_index(['school_name'])['size']\n",
    "per_school_counts"
   ]
  },
  {
   "cell_type": "code",
   "execution_count": 34,
   "id": "bf0f82ac",
   "metadata": {},
   "outputs": [
    {
     "data": {
      "text/plain": [
       "Bailey High School       4976\n",
       "Johnson High School      4761\n",
       "Hernandez High School    4635\n",
       "Rodriguez High School    3999\n",
       "Figueroa High School     2949\n",
       "Huang High School        2917\n",
       "Ford High School         2739\n",
       "Wilson High School       2283\n",
       "Cabrera High School      1858\n",
       "Wright High School       1800\n",
       "Shelton High School      1761\n",
       "Thomas High School       1635\n",
       "Griffin High School      1468\n",
       "Pena High School          962\n",
       "Holden High School        427\n",
       "Name: school_name, dtype: int64"
      ]
     },
     "execution_count": 34,
     "metadata": {},
     "output_type": "execute_result"
    }
   ],
   "source": [
    "# Calculate the total student count based on school_data_complete_df\n",
    "per_school_counts = school_data_complete_df['school_name'].value_counts()\n",
    "per_school_counts"
   ]
  },
  {
   "cell_type": "code",
   "execution_count": 35,
   "id": "eedde571",
   "metadata": {},
   "outputs": [
    {
     "data": {
      "text/plain": [
       "school_name\n",
       "Huang High School        1910635\n",
       "Figueroa High School     1884411\n",
       "Shelton High School      1056600\n",
       "Hernandez High School    3022020\n",
       "Griffin High School       917500\n",
       "Wilson High School       1319574\n",
       "Cabrera High School      1081356\n",
       "Bailey High School       3124928\n",
       "Holden High School        248087\n",
       "Pena High School          585858\n",
       "Wright High School       1049400\n",
       "Rodriguez High School    2547363\n",
       "Johnson High School      3094650\n",
       "Ford High School         1763916\n",
       "Thomas High School       1043130\n",
       "Name: budget, dtype: int64"
      ]
     },
     "execution_count": 35,
     "metadata": {},
     "output_type": "execute_result"
    }
   ],
   "source": [
    "# Calculate the total school budget with school_data_df\n",
    "\n",
    "per_school_budget = school_data_df.set_index(['school_name'])['budget']\n",
    "per_school_budget"
   ]
  },
  {
   "cell_type": "code",
   "execution_count": 36,
   "id": "20c8dc58",
   "metadata": {},
   "outputs": [
    {
     "data": {
      "text/plain": [
       "Bailey High School       628.0\n",
       "Cabrera High School      582.0\n",
       "Figueroa High School     639.0\n",
       "Ford High School         644.0\n",
       "Griffin High School      625.0\n",
       "Hernandez High School    652.0\n",
       "Holden High School       581.0\n",
       "Huang High School        655.0\n",
       "Johnson High School      650.0\n",
       "Pena High School         609.0\n",
       "Rodriguez High School    637.0\n",
       "Shelton High School      600.0\n",
       "Thomas High School       638.0\n",
       "Wilson High School       578.0\n",
       "Wright High School       583.0\n",
       "dtype: float64"
      ]
     },
     "execution_count": 36,
     "metadata": {},
     "output_type": "execute_result"
    }
   ],
   "source": [
    "# Calculate the per capita spending\n",
    "\n",
    "per_school_capita = per_school_budget / per_school_counts\n",
    "per_school_capita"
   ]
  },
  {
   "cell_type": "code",
   "execution_count": 37,
   "id": "9f982891",
   "metadata": {},
   "outputs": [],
   "source": [
    "# Calculate the math score on school_data_df \n",
    "\n",
    "student_school_math = student_data_df.set_index(['school_name'])['math_score']"
   ]
  },
  {
   "cell_type": "code",
   "execution_count": 38,
   "id": "4e869ecf",
   "metadata": {},
   "outputs": [
    {
     "data": {
      "text/html": [
       "<div>\n",
       "<style scoped>\n",
       "    .dataframe tbody tr th:only-of-type {\n",
       "        vertical-align: middle;\n",
       "    }\n",
       "\n",
       "    .dataframe tbody tr th {\n",
       "        vertical-align: top;\n",
       "    }\n",
       "\n",
       "    .dataframe thead th {\n",
       "        text-align: right;\n",
       "    }\n",
       "</style>\n",
       "<table border=\"1\" class=\"dataframe\">\n",
       "  <thead>\n",
       "    <tr style=\"text-align: right;\">\n",
       "      <th></th>\n",
       "      <th>Student ID</th>\n",
       "      <th>reading_score</th>\n",
       "      <th>math_score</th>\n",
       "      <th>School ID</th>\n",
       "      <th>size</th>\n",
       "      <th>budget</th>\n",
       "    </tr>\n",
       "    <tr>\n",
       "      <th>school_name</th>\n",
       "      <th></th>\n",
       "      <th></th>\n",
       "      <th></th>\n",
       "      <th></th>\n",
       "      <th></th>\n",
       "      <th></th>\n",
       "    </tr>\n",
       "  </thead>\n",
       "  <tbody>\n",
       "    <tr>\n",
       "      <th>Bailey High School</th>\n",
       "      <td>20358.5</td>\n",
       "      <td>81.033963</td>\n",
       "      <td>77.048432</td>\n",
       "      <td>7.0</td>\n",
       "      <td>4976.0</td>\n",
       "      <td>3124928.0</td>\n",
       "    </tr>\n",
       "    <tr>\n",
       "      <th>Cabrera High School</th>\n",
       "      <td>16941.5</td>\n",
       "      <td>83.975780</td>\n",
       "      <td>83.061895</td>\n",
       "      <td>6.0</td>\n",
       "      <td>1858.0</td>\n",
       "      <td>1081356.0</td>\n",
       "    </tr>\n",
       "    <tr>\n",
       "      <th>Figueroa High School</th>\n",
       "      <td>4391.0</td>\n",
       "      <td>81.158020</td>\n",
       "      <td>76.711767</td>\n",
       "      <td>1.0</td>\n",
       "      <td>2949.0</td>\n",
       "      <td>1884411.0</td>\n",
       "    </tr>\n",
       "    <tr>\n",
       "      <th>Ford High School</th>\n",
       "      <td>36165.0</td>\n",
       "      <td>80.746258</td>\n",
       "      <td>77.102592</td>\n",
       "      <td>13.0</td>\n",
       "      <td>2739.0</td>\n",
       "      <td>1763916.0</td>\n",
       "    </tr>\n",
       "    <tr>\n",
       "      <th>Griffin High School</th>\n",
       "      <td>12995.5</td>\n",
       "      <td>83.816757</td>\n",
       "      <td>83.351499</td>\n",
       "      <td>4.0</td>\n",
       "      <td>1468.0</td>\n",
       "      <td>917500.0</td>\n",
       "    </tr>\n",
       "    <tr>\n",
       "      <th>Hernandez High School</th>\n",
       "      <td>9944.0</td>\n",
       "      <td>80.934412</td>\n",
       "      <td>77.289752</td>\n",
       "      <td>3.0</td>\n",
       "      <td>4635.0</td>\n",
       "      <td>3022020.0</td>\n",
       "    </tr>\n",
       "    <tr>\n",
       "      <th>Holden High School</th>\n",
       "      <td>23060.0</td>\n",
       "      <td>83.814988</td>\n",
       "      <td>83.803279</td>\n",
       "      <td>8.0</td>\n",
       "      <td>427.0</td>\n",
       "      <td>248087.0</td>\n",
       "    </tr>\n",
       "    <tr>\n",
       "      <th>Huang High School</th>\n",
       "      <td>1458.0</td>\n",
       "      <td>81.182722</td>\n",
       "      <td>76.629414</td>\n",
       "      <td>0.0</td>\n",
       "      <td>2917.0</td>\n",
       "      <td>1910635.0</td>\n",
       "    </tr>\n",
       "    <tr>\n",
       "      <th>Johnson High School</th>\n",
       "      <td>32415.0</td>\n",
       "      <td>80.966394</td>\n",
       "      <td>77.072464</td>\n",
       "      <td>12.0</td>\n",
       "      <td>4761.0</td>\n",
       "      <td>3094650.0</td>\n",
       "    </tr>\n",
       "    <tr>\n",
       "      <th>Pena High School</th>\n",
       "      <td>23754.5</td>\n",
       "      <td>84.044699</td>\n",
       "      <td>83.839917</td>\n",
       "      <td>9.0</td>\n",
       "      <td>962.0</td>\n",
       "      <td>585858.0</td>\n",
       "    </tr>\n",
       "    <tr>\n",
       "      <th>Rodriguez High School</th>\n",
       "      <td>28035.0</td>\n",
       "      <td>80.744686</td>\n",
       "      <td>76.842711</td>\n",
       "      <td>11.0</td>\n",
       "      <td>3999.0</td>\n",
       "      <td>2547363.0</td>\n",
       "    </tr>\n",
       "    <tr>\n",
       "      <th>Shelton High School</th>\n",
       "      <td>6746.0</td>\n",
       "      <td>83.725724</td>\n",
       "      <td>83.359455</td>\n",
       "      <td>2.0</td>\n",
       "      <td>1761.0</td>\n",
       "      <td>1056600.0</td>\n",
       "    </tr>\n",
       "    <tr>\n",
       "      <th>Thomas High School</th>\n",
       "      <td>38352.0</td>\n",
       "      <td>83.848930</td>\n",
       "      <td>83.418349</td>\n",
       "      <td>14.0</td>\n",
       "      <td>1635.0</td>\n",
       "      <td>1043130.0</td>\n",
       "    </tr>\n",
       "    <tr>\n",
       "      <th>Wilson High School</th>\n",
       "      <td>14871.0</td>\n",
       "      <td>83.989488</td>\n",
       "      <td>83.274201</td>\n",
       "      <td>5.0</td>\n",
       "      <td>2283.0</td>\n",
       "      <td>1319574.0</td>\n",
       "    </tr>\n",
       "    <tr>\n",
       "      <th>Wright High School</th>\n",
       "      <td>25135.5</td>\n",
       "      <td>83.955000</td>\n",
       "      <td>83.682222</td>\n",
       "      <td>10.0</td>\n",
       "      <td>1800.0</td>\n",
       "      <td>1049400.0</td>\n",
       "    </tr>\n",
       "  </tbody>\n",
       "</table>\n",
       "</div>"
      ],
      "text/plain": [
       "                       Student ID  reading_score  math_score  School ID  \\\n",
       "school_name                                                               \n",
       "Bailey High School        20358.5      81.033963   77.048432        7.0   \n",
       "Cabrera High School       16941.5      83.975780   83.061895        6.0   \n",
       "Figueroa High School       4391.0      81.158020   76.711767        1.0   \n",
       "Ford High School          36165.0      80.746258   77.102592       13.0   \n",
       "Griffin High School       12995.5      83.816757   83.351499        4.0   \n",
       "Hernandez High School      9944.0      80.934412   77.289752        3.0   \n",
       "Holden High School        23060.0      83.814988   83.803279        8.0   \n",
       "Huang High School          1458.0      81.182722   76.629414        0.0   \n",
       "Johnson High School       32415.0      80.966394   77.072464       12.0   \n",
       "Pena High School          23754.5      84.044699   83.839917        9.0   \n",
       "Rodriguez High School     28035.0      80.744686   76.842711       11.0   \n",
       "Shelton High School        6746.0      83.725724   83.359455        2.0   \n",
       "Thomas High School        38352.0      83.848930   83.418349       14.0   \n",
       "Wilson High School        14871.0      83.989488   83.274201        5.0   \n",
       "Wright High School        25135.5      83.955000   83.682222       10.0   \n",
       "\n",
       "                         size     budget  \n",
       "school_name                               \n",
       "Bailey High School     4976.0  3124928.0  \n",
       "Cabrera High School    1858.0  1081356.0  \n",
       "Figueroa High School   2949.0  1884411.0  \n",
       "Ford High School       2739.0  1763916.0  \n",
       "Griffin High School    1468.0   917500.0  \n",
       "Hernandez High School  4635.0  3022020.0  \n",
       "Holden High School      427.0   248087.0  \n",
       "Huang High School      2917.0  1910635.0  \n",
       "Johnson High School    4761.0  3094650.0  \n",
       "Pena High School        962.0   585858.0  \n",
       "Rodriguez High School  3999.0  2547363.0  \n",
       "Shelton High School    1761.0  1056600.0  \n",
       "Thomas High School     1635.0  1043130.0  \n",
       "Wilson High School     2283.0  1319574.0  \n",
       "Wright High School     1800.0  1049400.0  "
      ]
     },
     "execution_count": 38,
     "metadata": {},
     "output_type": "execute_result"
    }
   ],
   "source": [
    "# Calculate the average math score using groupby()\n",
    "\n",
    "per_school_avg = school_data_complete_df.groupby(['school_name']).mean()\n",
    "per_school_avg"
   ]
  },
  {
   "cell_type": "code",
   "execution_count": 39,
   "id": "ce941789",
   "metadata": {},
   "outputs": [],
   "source": [
    "# Calculate the avg test scores\n",
    "per_school_math = school_data_complete_df.groupby(['school_name']).mean()['math_score']\n",
    "per_school_reading = school_data_complete_df.groupby(['school_name']).mean()['reading_score']"
   ]
  },
  {
   "cell_type": "code",
   "execution_count": 40,
   "id": "739109f0",
   "metadata": {},
   "outputs": [],
   "source": [
    "# Calculate the passing scores by creating a filtered DF\n",
    "per_school_passing_math = school_data_complete_df[(school_data_complete_df['math_score'] >= 70)]\n",
    "per_school_passing_reading = school_data_complete_df[(school_data_complete_df['reading_score'] >= 70)]"
   ]
  },
  {
   "cell_type": "code",
   "execution_count": 41,
   "id": "893fccf3",
   "metadata": {},
   "outputs": [],
   "source": [
    "# Calculate the number of students passing math and passing reading by school\n",
    "\n",
    "per_school_passing_math = per_school_passing_math.groupby(['school_name']).count()['student_name']\n",
    "per_school_passing_reading = per_school_passing_reading.groupby(['school_name']).count()['student_name']"
   ]
  },
  {
   "cell_type": "code",
   "execution_count": 42,
   "id": "cf435784",
   "metadata": {},
   "outputs": [],
   "source": [
    "# Calcualte the prcnt of passing math and reading per school\n",
    "\n",
    "per_school_passing_math = per_school_passing_math / per_school_counts * 100\n",
    "per_school_passing_reading = per_school_passing_reading / per_school_counts * 100"
   ]
  },
  {
   "cell_type": "code",
   "execution_count": 43,
   "id": "d0244072",
   "metadata": {},
   "outputs": [
    {
     "data": {
      "text/html": [
       "<div>\n",
       "<style scoped>\n",
       "    .dataframe tbody tr th:only-of-type {\n",
       "        vertical-align: middle;\n",
       "    }\n",
       "\n",
       "    .dataframe tbody tr th {\n",
       "        vertical-align: top;\n",
       "    }\n",
       "\n",
       "    .dataframe thead th {\n",
       "        text-align: right;\n",
       "    }\n",
       "</style>\n",
       "<table border=\"1\" class=\"dataframe\">\n",
       "  <thead>\n",
       "    <tr style=\"text-align: right;\">\n",
       "      <th></th>\n",
       "      <th>Student ID</th>\n",
       "      <th>student_name</th>\n",
       "      <th>gender</th>\n",
       "      <th>grade</th>\n",
       "      <th>school_name</th>\n",
       "      <th>reading_score</th>\n",
       "      <th>math_score</th>\n",
       "      <th>School ID</th>\n",
       "      <th>type</th>\n",
       "      <th>size</th>\n",
       "      <th>budget</th>\n",
       "    </tr>\n",
       "  </thead>\n",
       "  <tbody>\n",
       "    <tr>\n",
       "      <th>4</th>\n",
       "      <td>4</td>\n",
       "      <td>Bonnie Ray</td>\n",
       "      <td>F</td>\n",
       "      <td>9th</td>\n",
       "      <td>Huang High School</td>\n",
       "      <td>97</td>\n",
       "      <td>84</td>\n",
       "      <td>0</td>\n",
       "      <td>District</td>\n",
       "      <td>2917</td>\n",
       "      <td>1910635</td>\n",
       "    </tr>\n",
       "    <tr>\n",
       "      <th>5</th>\n",
       "      <td>5</td>\n",
       "      <td>Bryan Miranda</td>\n",
       "      <td>M</td>\n",
       "      <td>9th</td>\n",
       "      <td>Huang High School</td>\n",
       "      <td>94</td>\n",
       "      <td>94</td>\n",
       "      <td>0</td>\n",
       "      <td>District</td>\n",
       "      <td>2917</td>\n",
       "      <td>1910635</td>\n",
       "    </tr>\n",
       "    <tr>\n",
       "      <th>6</th>\n",
       "      <td>6</td>\n",
       "      <td>Sheena Carter</td>\n",
       "      <td>F</td>\n",
       "      <td>11th</td>\n",
       "      <td>Huang High School</td>\n",
       "      <td>82</td>\n",
       "      <td>80</td>\n",
       "      <td>0</td>\n",
       "      <td>District</td>\n",
       "      <td>2917</td>\n",
       "      <td>1910635</td>\n",
       "    </tr>\n",
       "    <tr>\n",
       "      <th>8</th>\n",
       "      <td>8</td>\n",
       "      <td>Michael Roth</td>\n",
       "      <td>M</td>\n",
       "      <td>10th</td>\n",
       "      <td>Huang High School</td>\n",
       "      <td>95</td>\n",
       "      <td>87</td>\n",
       "      <td>0</td>\n",
       "      <td>District</td>\n",
       "      <td>2917</td>\n",
       "      <td>1910635</td>\n",
       "    </tr>\n",
       "    <tr>\n",
       "      <th>9</th>\n",
       "      <td>9</td>\n",
       "      <td>Matthew Greene</td>\n",
       "      <td>M</td>\n",
       "      <td>10th</td>\n",
       "      <td>Huang High School</td>\n",
       "      <td>96</td>\n",
       "      <td>84</td>\n",
       "      <td>0</td>\n",
       "      <td>District</td>\n",
       "      <td>2917</td>\n",
       "      <td>1910635</td>\n",
       "    </tr>\n",
       "  </tbody>\n",
       "</table>\n",
       "</div>"
      ],
      "text/plain": [
       "   Student ID    student_name gender grade        school_name  reading_score  \\\n",
       "4           4      Bonnie Ray      F   9th  Huang High School             97   \n",
       "5           5   Bryan Miranda      M   9th  Huang High School             94   \n",
       "6           6   Sheena Carter      F  11th  Huang High School             82   \n",
       "8           8    Michael Roth      M  10th  Huang High School             95   \n",
       "9           9  Matthew Greene      M  10th  Huang High School             96   \n",
       "\n",
       "   math_score  School ID      type  size   budget  \n",
       "4          84          0  District  2917  1910635  \n",
       "5          94          0  District  2917  1910635  \n",
       "6          80          0  District  2917  1910635  \n",
       "8          87          0  District  2917  1910635  \n",
       "9          84          0  District  2917  1910635  "
      ]
     },
     "execution_count": 43,
     "metadata": {},
     "output_type": "execute_result"
    }
   ],
   "source": [
    "# Calculate the students who passed both math and reading\n",
    "\n",
    "per_passing_math_reading = school_data_complete_df[(school_data_complete_df['math_score'] >= 70) & (school_data_complete_df['reading_score'] >= 70)]\n",
    "per_passing_math_reading.head()"
   ]
  },
  {
   "cell_type": "code",
   "execution_count": 44,
   "id": "1877bc8a",
   "metadata": {},
   "outputs": [],
   "source": [
    "# Calculate the number of students who passed both math and reading\n",
    "per_passing_math_reading = per_passing_math_reading.groupby(['school_name']).count()['student_name']"
   ]
  },
  {
   "cell_type": "code",
   "execution_count": 45,
   "id": "0001514d",
   "metadata": {},
   "outputs": [],
   "source": [
    "# Calcuate the overall passing prcnt by school\n",
    "\n",
    "per_overall_passing_prcnt = per_passing_math_reading / per_school_counts * 100"
   ]
  },
  {
   "cell_type": "code",
   "execution_count": 49,
   "id": "4ad914cf",
   "metadata": {},
   "outputs": [
    {
     "name": "stdout",
     "output_type": "stream",
     "text": [
      "School Type                Charter\n",
      "Total Students                1635\n",
      "Total School Budget        1043130\n",
      "Per Student Budget           638.0\n",
      "Average Math Score       83.418349\n",
      "Average Reading Score     83.84893\n",
      "% Passing Math           93.272171\n",
      "% Passing Reading        97.308869\n",
      "% Overall Passing        90.948012\n",
      "Name: Thomas High School, dtype: object\n"
     ]
    }
   ],
   "source": [
    "per_school_summary_df = pd.DataFrame({\n",
    "    'School Type' : per_school_types,\n",
    "    'Total Students': per_school_counts,\n",
    "    'Total School Budget': per_school_budget,\n",
    "    'Per Student Budget': per_school_capita,\n",
    "    'Average Math Score': per_school_math,\n",
    "    'Average Reading Score': per_school_reading,\n",
    "    '% Passing Math': per_school_passing_math,\n",
    "    '% Passing Reading': per_school_passing_reading,\n",
    "    '% Overall Passing': per_overall_passing_prcnt})\n",
    "per_school_summary_df.head()\n",
    "print(per_school_summary_df.loc['Thomas High School',:])"
   ]
  },
  {
   "cell_type": "code",
   "execution_count": null,
   "id": "6a91626d",
   "metadata": {},
   "outputs": [],
   "source": [
    "per_school_summary_df.info()"
   ]
  },
  {
   "cell_type": "code",
   "execution_count": null,
   "id": "1984ef6b",
   "metadata": {},
   "outputs": [],
   "source": [
    "# Formatting School Summary\n",
    "per_school_summary_df[\"Total School Budget\"] = per_school_summary_df[\"Total School Budget\"].map(\"${:,.2f}\".format)\n",
    "per_school_summary_df[\"Per Student Budget\"] = per_school_summary_df[\"Per Student Budget\"].map(\"${:,.2f}\".format)\n",
    "per_school_summary_df.head()"
   ]
  },
  {
   "cell_type": "code",
   "execution_count": null,
   "id": "35a2fbc8",
   "metadata": {},
   "outputs": [],
   "source": [
    "top_schools = per_school_summary_df.sort_values(['% Overall Passing'], ascending= False)\n",
    "top_schools.head()"
   ]
  },
  {
   "cell_type": "code",
   "execution_count": null,
   "id": "44d9fd53",
   "metadata": {},
   "outputs": [],
   "source": [
    "bottom_schools = per_school_summary_df.sort_values(['% Overall Passing'], ascending= True)\n",
    "bottom_schools.head()"
   ]
  },
  {
   "cell_type": "code",
   "execution_count": null,
   "id": "36e4aabe",
   "metadata": {},
   "outputs": [],
   "source": [
    "# Grade level DF\n",
    "ninth_graders = school_data_complete_df[(school_data_complete_df['grade'] == '9th')]\n",
    "tenth_graders = school_data_complete_df[(school_data_complete_df['grade'] == '10th')]\n",
    "eleventh_graders = school_data_complete_df[(school_data_complete_df['grade'] == '11th')]\n",
    "twelfth_graders = school_data_complete_df[(school_data_complete_df['grade'] == '12th')]"
   ]
  },
  {
   "cell_type": "code",
   "execution_count": null,
   "id": "98b33318-1911-4b6f-a2fc-d2ac7f04b886",
   "metadata": {},
   "outputs": [],
   "source": [
    "ninth_graders.head()"
   ]
  },
  {
   "cell_type": "code",
   "execution_count": null,
   "id": "94396bd0-277e-4b86-b045-fc2f149e4b9b",
   "metadata": {},
   "outputs": [],
   "source": [
    "# Avg math and reading score per grade level by school\n",
    "ninth_grade_math_scores = ninth_graders.groupby(['school_name']).mean()['math_score']\n",
    "tenth_grade_math_scores = tenth_graders.groupby(['school_name']).mean()['math_score']\n",
    "eleventh_grade_math_scores = eleventh_graders.groupby(['school_name']).mean()['math_score']\n",
    "twelfth_grade_math_scores = twelfth_graders.groupby(['school_name']).mean()['math_score']\n",
    "\n",
    "ninth_grade_reading_scores = ninth_graders.groupby(['school_name']).mean()['reading_score']\n",
    "tenth_grade_reading_scores = tenth_graders.groupby(['school_name']).mean()['reading_score']\n",
    "eleventh_grade_reading_scores = eleventh_graders.groupby(['school_name']).mean()['reading_score']\n",
    "twelfth_grade_reading_scores = twelfth_graders.groupby(['school_name']).mean()['reading_score']"
   ]
  },
  {
   "cell_type": "code",
   "execution_count": null,
   "id": "656b6af1-39f7-45b4-83db-13bc26922118",
   "metadata": {},
   "outputs": [],
   "source": [
    "print(eleventh_grade_math_scores['Pena High School'], twelfth_grade_reading_scores['Shelton High School'])"
   ]
  },
  {
   "cell_type": "code",
   "execution_count": null,
   "id": "145f7867-6df6-4710-a01c-b3fdab2305f3",
   "metadata": {},
   "outputs": [],
   "source": [
    "# DF of avg math scores by each grade level Sereis by school\n",
    "math_scores_by_grade = pd.DataFrame({\n",
    "    '9th': ninth_grade_math_scores,\n",
    "    '10th' : tenth_grade_math_scores,\n",
    "    '11th' : eleventh_grade_math_scores,\n",
    "    '12th' : twelfth_grade_math_scores})\n",
    "math_scores_by_grade.head()"
   ]
  },
  {
   "cell_type": "code",
   "execution_count": null,
   "id": "4864039b-ba7f-426c-a26c-5907dda932cc",
   "metadata": {},
   "outputs": [],
   "source": [
    "# DF of avg reading scores by each grade level Sereis by school\n",
    "reading_scores_by_grade = pd.DataFrame({\n",
    "    '9th': ninth_grade_reading_scores,\n",
    "    '10th' : tenth_grade_reading_scores,\n",
    "    '11th' : eleventh_grade_reading_scores,\n",
    "    '12th' : twelfth_grade_reading_scores})\n",
    "reading_scores_by_grade.head()"
   ]
  },
  {
   "cell_type": "code",
   "execution_count": null,
   "id": "fc0e5001-e0c6-4fd0-b96c-61555588ed42",
   "metadata": {},
   "outputs": [],
   "source": [
    "# Format each math grade column to one decimal point\n",
    "math_scores_by_grade['9th'] = math_scores_by_grade['9th'].map('{:.1f}'.format)\n",
    "math_scores_by_grade['10th'] = math_scores_by_grade['10th'].map('{:.1f}'.format)\n",
    "math_scores_by_grade['11th'] = math_scores_by_grade['11th'].map('{:.1f}'.format)\n",
    "math_scores_by_grade['12th'] = math_scores_by_grade['12th'].map('{:.1f}'.format)"
   ]
  },
  {
   "cell_type": "code",
   "execution_count": null,
   "id": "658edd98-12ab-43bd-bf94-34954d5e3e1c",
   "metadata": {},
   "outputs": [],
   "source": [
    "# Set columns to the correct order\n",
    "math_scores_by_grade = math_scores_by_grade[['9th', '10th', '11th', '12th']]\n",
    "# Remove index name\n",
    "math_scores_by_grade.index.name = None\n",
    "math_scores_by_grade.head()"
   ]
  },
  {
   "cell_type": "code",
   "execution_count": null,
   "id": "a5fc156f-d175-4719-b431-4d67f4ba175d",
   "metadata": {},
   "outputs": [],
   "source": [
    "# Format each reading grade column to one decimal point\n",
    "reading_scores_by_grade['9th'] = reading_scores_by_grade['9th'].map('{:.1f}'.format)\n",
    "reading_scores_by_grade['10th'] = reading_scores_by_grade['10th'].map('{:.1f}'.format)\n",
    "reading_scores_by_grade['11th'] = reading_scores_by_grade['11th'].map('{:.1f}'.format)\n",
    "reading_scores_by_grade['12th'] = reading_scores_by_grade['12th'].map('{:.1f}'.format)\n",
    "\n",
    "#Set columns in the correct order\n",
    "reading_scores_by_grade = reading_scores_by_grade[['9th', '10th', '11th', '12th']]\n",
    "#Remove index name\n",
    "reading_scores_by_grade.index.name = None\n",
    "reading_scores_by_grade.head()"
   ]
  },
  {
   "cell_type": "code",
   "execution_count": null,
   "id": "50aec4b0-7c35-4b4b-9349-329ae8188958",
   "metadata": {},
   "outputs": [],
   "source": [
    "# per school capita statistics\n",
    "per_school_capita.describe()"
   ]
  },
  {
   "cell_type": "code",
   "execution_count": null,
   "id": "23bd121c-7a63-495c-8d56-66ca6f7929dd",
   "metadata": {},
   "outputs": [],
   "source": [
    "# Spending bins and group names\n",
    "spending_bins = [0, 585, 630, 645, 675]\n",
    "group_names = ['<$586',  '$586-630', '$631-645', '$646-675']\n",
    "per_school_capita.groupby(pd.cut(per_school_capita, spending_bins)).count()"
   ]
  },
  {
   "cell_type": "code",
   "execution_count": null,
   "id": "6a8b54a1-bfeb-45af-9e45-90e59e6e1c88",
   "metadata": {},
   "outputs": [],
   "source": [
    "# Categorize spending based on bins\n",
    "per_school_summary_df['Spending Ranges (Per Student)'] = pd.cut(per_school_capita, spending_bins, labels = group_names)\n",
    "per_school_summary_df.head()"
   ]
  },
  {
   "cell_type": "code",
   "execution_count": null,
   "id": "06028c12-90d0-4f2c-893a-460bf6f33188",
   "metadata": {},
   "outputs": [],
   "source": [
    "# Calculate average\n",
    "\n",
    "spending_math_scores = per_school_summary_df.groupby([\"Spending Ranges (Per Student)\"]).mean()[\"Average Math Score\"]\n",
    "\n",
    "spending_reading_scores = per_school_summary_df.groupby([\"Spending Ranges (Per Student)\"]).mean()[\"Average Reading Score\"]\n",
    "\n",
    "spending_passing_math = per_school_summary_df.groupby([\"Spending Ranges (Per Student)\"]).mean()[\"% Passing Math\"]\n",
    "\n",
    "spending_passing_reading = per_school_summary_df.groupby([\"Spending Ranges (Per Student)\"]).mean()[\"% Passing Reading\"]\n",
    "\n",
    "overall_passing_spending = per_school_summary_df.groupby([\"Spending Ranges (Per Student)\"]).mean()[\"% Overall Passing\"]"
   ]
  },
  {
   "cell_type": "code",
   "execution_count": null,
   "id": "f267bec9-4dd8-4b67-a073-ee0932366fe3",
   "metadata": {},
   "outputs": [],
   "source": []
  },
  {
   "cell_type": "code",
   "execution_count": null,
   "id": "5af2f552-2a5a-4845-bbed-51c5da463773",
   "metadata": {},
   "outputs": [],
   "source": [
    "# DF with calculated averages by spending ranges\n",
    "spending_summary_df = pd.DataFrame({\n",
    "    'Average Math Score' : spending_math_scores,\n",
    "    'Average Reading Score' : spending_reading_scores,\n",
    "    '% Passing Math' : spending_passing_math,\n",
    "    '% Passing Reading' : spending_passing_reading,\n",
    "    '% Overall Passing' : overall_passing_spending})\n",
    "spending_summary_df.head()"
   ]
  },
  {
   "cell_type": "code",
   "execution_count": null,
   "id": "53a1db8a-a441-41b9-ba18-de17c898ebba",
   "metadata": {},
   "outputs": [],
   "source": [
    "# Applying format \n",
    "spending_summary_df['Average Math Score'] = spending_summary_df['Average Math Score'].map('{:.1f}'.format)\n",
    "spending_summary_df['Average Reading Score'] = spending_summary_df['Average Reading Score'].map('{:.1f}'.format)\n",
    "spending_summary_df['% Passing Math'] = spending_summary_df['% Passing Math'].map('{:.0f}'.format)\n",
    "spending_summary_df['% Passing Reading'] = spending_summary_df['% Passing Reading'].map('{:.0f}'.format)\n",
    "spending_summary_df['% Overall Passing'] = spending_summary_df['% Overall Passing'].map('{:.0f}'.format)\n",
    "spending_summary_df.head()"
   ]
  },
  {
   "cell_type": "code",
   "execution_count": null,
   "id": "564730ae-babb-47dc-93b9-21874c07e2dd",
   "metadata": {},
   "outputs": [],
   "source": [
    "# Bins by school size and group names\n",
    "size_bins = [0, 999, 1999, 5000]\n",
    "group_names = ['Small (<1000)', 'Medium (1000-1999)', 'Large (2000-5000)']\n",
    "\n",
    "#Categorizing spending by school size bins\n",
    "per_school_summary_df['School Size']= pd.cut(per_school_summary_df['Total Students'], size_bins, labels = group_names)\n",
    "\n",
    "per_school_summary_df.head()"
   ]
  },
  {
   "cell_type": "code",
   "execution_count": null,
   "id": "2fec3a69-8893-415b-b43c-9aae1f5840d6",
   "metadata": {},
   "outputs": [],
   "source": [
    "# Calculate average\n",
    "\n",
    "size_math_scores = per_school_summary_df.groupby([\"School Size\"]).mean()[\"Average Math Score\"]\n",
    "\n",
    "size_reading_scores = per_school_summary_df.groupby([\"School Size\"]).mean()[\"Average Reading Score\"]\n",
    "\n",
    "size_passing_math = per_school_summary_df.groupby([\"School Size\"]).mean()[\"% Passing Math\"]\n",
    "\n",
    "size_passing_reading = per_school_summary_df.groupby([\"School Size\"]).mean()[\"% Passing Reading\"]\n",
    "\n",
    "size_overall_passing = per_school_summary_df.groupby([\"School Size\"]).mean()[\"% Overall Passing\"]"
   ]
  },
  {
   "cell_type": "code",
   "execution_count": null,
   "id": "a592f861-ee3e-4de3-b5d5-dec00616f391",
   "metadata": {},
   "outputs": [],
   "source": [
    "# DF with calculated averages by school size\n",
    "size_summary_df = pd.DataFrame({\n",
    "    'Average Math Score' : size_math_scores,\n",
    "    'Average Reading Score' : size_reading_scores,\n",
    "    '% Passing Math' : size_passing_math,\n",
    "    '% Passing Reading' : size_passing_reading,\n",
    "    '% Overall Passing' : size_overall_passing})\n",
    "size_summary_df.head()"
   ]
  },
  {
   "cell_type": "code",
   "execution_count": null,
   "id": "6d29b443-9f0d-44b8-a96c-59874ec1ad8a",
   "metadata": {},
   "outputs": [],
   "source": [
    "# Applying format \n",
    "size_summary_df['Average Math Score'] = size_summary_df['Average Math Score'].map('{:.1f}'.format)\n",
    "size_summary_df['Average Reading Score'] = size_summary_df['Average Reading Score'].map('{:.1f}'.format)\n",
    "size_summary_df['% Passing Math'] = size_summary_df['% Passing Math'].map('{:.0f}'.format)\n",
    "size_summary_df['% Passing Reading'] = size_summary_df['% Passing Reading'].map('{:.0f}'.format)\n",
    "size_summary_df['% Overall Passing'] = size_summary_df['% Overall Passing'].map('{:.0f}'.format)\n",
    "size_summary_df.head()"
   ]
  },
  {
   "cell_type": "code",
   "execution_count": null,
   "id": "9685ce1c-ae00-4b19-b63d-5795a83bcf6f",
   "metadata": {},
   "outputs": [],
   "source": [
    "# Averages of scores by School Type\n",
    "type_math_scores = per_school_summary_df.groupby(['School Type']).mean()['Average Math Score']\n",
    "type_reading_scores = per_school_summary_df.groupby(['School Type']).mean()['Average Reading Score']\n",
    "type_passing_math = per_school_summary_df.groupby(['School Type']).mean()['% Passing Math']\n",
    "type_passing_reading = per_school_summary_df.groupby(['School Type']).mean()['% Passing Reading']\n",
    "type_overall_passing = per_school_summary_df.groupby(['School Type']).mean()['% Overall Passing']"
   ]
  },
  {
   "cell_type": "code",
   "execution_count": null,
   "id": "539dc98d-0679-4294-b2a8-ff29bfc83997",
   "metadata": {},
   "outputs": [],
   "source": [
    "# DF with calculated averages by School Type\n",
    "type_summary_df = pd.DataFrame({\n",
    "    'Average Math Score' : type_math_scores,\n",
    "    'Average Reading Score' : type_reading_scores,\n",
    "    '% Passing Math' : type_passing_math,\n",
    "    '% Passing Reading' : type_passing_reading,\n",
    "    '% Overall Passing' : type_overall_passing})\n",
    "type_summary_df.head()"
   ]
  },
  {
   "cell_type": "code",
   "execution_count": null,
   "id": "56e80be1-8110-4c77-8b20-c71be430df1c",
   "metadata": {},
   "outputs": [],
   "source": [
    "#Formatting\n",
    "type_summary_df['Average Math Score']=type_summary_df['Average Math Score'].map('{:.1f}'.format)\n",
    "type_summary_df['Average Reading Score']=type_summary_df['Average Reading Score'].map('{:.1f}'.format)\n",
    "type_summary_df['% Passing Math']=type_summary_df['% Passing Math'].map('{:.0f}'.format)\n",
    "type_summary_df['% Passing Reading']=type_summary_df['% Passing Reading'].map('{:.0f}'.format)\n",
    "type_summary_df['% Overall Passing']=type_summary_df['% Overall Passing'].map('{:.0f}'.format)\n",
    "\n",
    "type_summary_df"
   ]
  }
 ],
 "metadata": {
  "kernelspec": {
   "display_name": "PythonData",
   "language": "python",
   "name": "pythondata"
  },
  "language_info": {
   "codemirror_mode": {
    "name": "ipython",
    "version": 3
   },
   "file_extension": ".py",
   "mimetype": "text/x-python",
   "name": "python",
   "nbconvert_exporter": "python",
   "pygments_lexer": "ipython3",
   "version": "3.7.11"
  }
 },
 "nbformat": 4,
 "nbformat_minor": 5
}
